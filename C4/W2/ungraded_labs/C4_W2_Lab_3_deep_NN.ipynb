{
  "cells": [
    {
      "cell_type": "markdown",
      "metadata": {
        "id": "J4MiL2abanyV"
      },
      "source": [
        "<a href=\"https://colab.research.google.com/github/https-deeplearning-ai/tensorflow-1-public/blob/main/C4/W2/ungraded_labs/C4_W2_Lab_3_deep_NN.ipynb\" target=\"_parent\"><img src=\"https://colab.research.google.com/assets/colab-badge.svg\" alt=\"Open In Colab\"/></a>"
      ]
    },
    {
      "cell_type": "markdown",
      "metadata": {
        "id": "dxFGlX1S53mg"
      },
      "source": [
        "# Ungraded Lab: Training a Deep Neural Network with Time Series Data\n",
        "\n",
        "In this lab, you will build upon the previous exercise and add more dense layers to your network. You will also look at a technique to tune the model's learning rate to make the weights converge faster. This is a useful tip so you can avoid guessing the learning rate before training.\n",
        "\n",
        "The initial steps will be identical to the previous lab so you can run the next cells until the `Build the Model` section. That's where the discussions begin."
      ]
    },
    {
      "cell_type": "markdown",
      "metadata": {
        "id": "w5S4XCUZ6GH7"
      },
      "source": [
        "## Imports"
      ]
    },
    {
      "cell_type": "code",
      "execution_count": 1,
      "metadata": {
        "id": "BOjujz601HcS"
      },
      "outputs": [],
      "source": [
        "import tensorflow as tf\n",
        "import numpy as np\n",
        "import matplotlib.pyplot as plt"
      ]
    },
    {
      "cell_type": "markdown",
      "metadata": {
        "id": "tjC8TSkp6IiH"
      },
      "source": [
        "## Utilities"
      ]
    },
    {
      "cell_type": "code",
      "execution_count": 2,
      "metadata": {
        "id": "Zswl7jRtGzkk"
      },
      "outputs": [],
      "source": [
        "def plot_series(time, series, format=\"-\", start=0, end=None):\n",
        "    \"\"\"\n",
        "    Visualizes time series data\n",
        "\n",
        "    Args:\n",
        "      time (array of int) - contains the time steps\n",
        "      series (array of int) - contains the measurements for each time step\n",
        "      format - line style when plotting the graph\n",
        "      label - tag for the line\n",
        "      start - first time step to plot\n",
        "      end - last time step to plot\n",
        "    \"\"\"\n",
        "\n",
        "    # Setup dimensions of the graph figure\n",
        "    plt.figure(figsize=(10, 6))\n",
        "    \n",
        "    if type(series) is tuple:\n",
        "\n",
        "      for series_num in series:\n",
        "        # Plot the time series data\n",
        "        plt.plot(time[start:end], series_num[start:end], format)\n",
        "\n",
        "    else:\n",
        "      # Plot the time series data\n",
        "      plt.plot(time[start:end], series[start:end], format)\n",
        "\n",
        "    # Label the x-axis\n",
        "    plt.xlabel(\"Time\")\n",
        "\n",
        "    # Label the y-axis\n",
        "    plt.ylabel(\"Value\")\n",
        "\n",
        "    # Overlay a grid on the graph\n",
        "    plt.grid(True)\n",
        "\n",
        "    # Draw the graph on screen\n",
        "    plt.show()\n",
        "\n",
        "def trend(time, slope=0):\n",
        "    \"\"\"\n",
        "    Generates synthetic data that follows a straight line given a slope value.\n",
        "\n",
        "    Args:\n",
        "      time (array of int) - contains the time steps\n",
        "      slope (float) - determines the direction and steepness of the line\n",
        "\n",
        "    Returns:\n",
        "      series (array of float) - measurements that follow a straight line\n",
        "    \"\"\"\n",
        "\n",
        "    # Compute the linear series given the slope\n",
        "    series = slope * time\n",
        "\n",
        "    return series\n",
        "\n",
        "def seasonal_pattern(season_time):\n",
        "    \"\"\"\n",
        "    Just an arbitrary pattern, you can change it if you wish\n",
        "    \n",
        "    Args:\n",
        "      season_time (array of float) - contains the measurements per time step\n",
        "\n",
        "    Returns:\n",
        "      data_pattern (array of float) -  contains revised measurement values according \n",
        "                                  to the defined pattern\n",
        "    \"\"\"\n",
        "\n",
        "    # Generate the values using an arbitrary pattern\n",
        "    data_pattern = np.where(season_time < 0.4,\n",
        "                    np.cos(season_time * 2 * np.pi),\n",
        "                    1 / np.exp(3 * season_time))\n",
        "    \n",
        "    return data_pattern\n",
        "\n",
        "def seasonality(time, period, amplitude=1, phase=0):\n",
        "    \"\"\"\n",
        "    Repeats the same pattern at each period\n",
        "\n",
        "    Args:\n",
        "      time (array of int) - contains the time steps\n",
        "      period (int) - number of time steps before the pattern repeats\n",
        "      amplitude (int) - peak measured value in a period\n",
        "      phase (int) - number of time steps to shift the measured values\n",
        "\n",
        "    Returns:\n",
        "      data_pattern (array of float) - seasonal data scaled by the defined amplitude\n",
        "    \"\"\"\n",
        "    \n",
        "    # Define the measured values per period\n",
        "    season_time = ((time + phase) % period) / period\n",
        "\n",
        "    # Generates the seasonal data scaled by the defined amplitude\n",
        "    data_pattern = amplitude * seasonal_pattern(season_time)\n",
        "\n",
        "    return data_pattern\n",
        "\n",
        "def noise(time, noise_level=1, seed=None):\n",
        "    \"\"\"Generates a normally distributed noisy signal\n",
        "\n",
        "    Args:\n",
        "      time (array of int) - contains the time steps\n",
        "      noise_level (float) - scaling factor for the generated signal\n",
        "      seed (int) - number generator seed for repeatability\n",
        "\n",
        "    Returns:\n",
        "      noise (array of float) - the noisy signal\n",
        "    \"\"\"\n",
        "\n",
        "    # Initialize the random number generator\n",
        "    rnd = np.random.RandomState(seed)\n",
        "\n",
        "    # Generate a random number for each time step and scale by the noise level\n",
        "    noise = rnd.randn(len(time)) * noise_level\n",
        "    \n",
        "    return noise"
      ]
    },
    {
      "cell_type": "markdown",
      "metadata": {
        "id": "Z1CL6Bh86TS1"
      },
      "source": [
        "## Generate the Synthetic Data"
      ]
    },
    {
      "cell_type": "code",
      "execution_count": 3,
      "metadata": {
        "id": "5MFtI3X1FErU"
      },
      "outputs": [
        {
          "data": {
            "image/png": "[encoded data removed]",
            "text/plain": [
              "<Figure size 720x432 with 1 Axes>"
            ]
          },
          "metadata": {
            "needs_background": "light"
          },
          "output_type": "display_data"
        }
      ],
      "source": [
        "# Parameters\n",
        "time = np.arange(4 * 365 + 1, dtype=\"float32\")\n",
        "baseline = 10\n",
        "amplitude = 40\n",
        "slope = 0.05\n",
        "noise_level = 5\n",
        "\n",
        "# Create the series\n",
        "series = baseline + trend(time, slope) + seasonality(time, period=365, amplitude=amplitude)\n",
        "\n",
        "# Update with noise\n",
        "series += noise(time, noise_level, seed=42)\n",
        "\n",
        "# Plot the results\n",
        "plot_series(time, series)"
      ]
    },
    {
      "cell_type": "markdown",
      "metadata": {
        "id": "t2YvxWcI6lnB"
      },
      "source": [
        "## Split the Dataset"
      ]
    },
    {
      "cell_type": "code",
      "execution_count": 4,
      "metadata": {
        "id": "Db9kkYnOFKYr"
      },
      "outputs": [],
      "source": [
        "# Define the split time\n",
        "split_time = 1000\n",
        "\n",
        "# Get the train set \n",
        "time_train = time[:split_time]\n",
        "x_train = series[:split_time]\n",
        "\n",
        "# Get the validation set\n",
        "time_valid = time[split_time:]\n",
        "x_valid = series[split_time:]"
      ]
    },
    {
      "cell_type": "markdown",
      "metadata": {
        "id": "XH-0FgXN6zHA"
      },
      "source": [
        "## Prepare Features and Labels"
      ]
    },
    {
      "cell_type": "code",
      "execution_count": 5,
      "metadata": {
        "id": "AyBwNWO1FVTS"
      },
      "outputs": [],
      "source": [
        "# Parameters\n",
        "window_size = 20\n",
        "batch_size = 32\n",
        "shuffle_buffer_size = 1000"
      ]
    },
    {
      "cell_type": "code",
      "execution_count": 6,
      "metadata": {
        "id": "4sTTIOCbyShY"
      },
      "outputs": [],
      "source": [
        "def windowed_dataset(series, window_size, batch_size, shuffle_buffer):\n",
        "    \"\"\"Generates dataset windows\n",
        "\n",
        "    Args:\n",
        "      series (array of float) - contains the values of the time series\n",
        "      window_size (int) - the number of time steps to average\n",
        "      batch_size (int) - the batch size\n",
        "      shuffle_buffer(int) - buffer size to use for the shuffle method\n",
        "\n",
        "    Returns:\n",
        "      dataset (TF Dataset) - TF Dataset containing time windows\n",
        "    \"\"\"\n",
        "  \n",
        "    # Generate a TF Dataset from the series values\n",
        "    dataset = tf.data.Dataset.from_tensor_slices(series)\n",
        "    \n",
        "    # Window the data but only take those with the specified size\n",
        "    dataset = dataset.window(window_size + 1, shift=1, drop_remainder=True)\n",
        "    \n",
        "    # Flatten the windows by putting its elements in a single batch\n",
        "    dataset = dataset.flat_map(lambda window: window.batch(window_size + 1))\n",
        "\n",
        "    # Create tuples with features and labels \n",
        "    dataset = dataset.map(lambda window: (window[:-1], window[-1]))\n",
        "\n",
        "    # Shuffle the windows\n",
        "    dataset = dataset.shuffle(shuffle_buffer)\n",
        "    \n",
        "    # Create batches of windows\n",
        "    dataset = dataset.batch(batch_size).prefetch(1)\n",
        "    \n",
        "    return dataset"
      ]
    },
    {
      "cell_type": "code",
      "execution_count": 7,
      "metadata": {
        "id": "AdNN0s9qFnTg"
      },
      "outputs": [],
      "source": [
        "# Generate the dataset windows\n",
        "dataset = windowed_dataset(x_train, window_size, batch_size, shuffle_buffer_size)"
      ]
    },
    {
      "cell_type": "markdown",
      "metadata": {
        "id": "ths8EcjQ7CG3"
      },
      "source": [
        "## Build the Model\n",
        "\n",
        "You will use three dense layers in this exercise as shown below. As expected, the number of trainable parameters will increase and the model summary shows that it is more than tenfold of the previous lab."
      ]
    },
    {
      "cell_type": "code",
      "execution_count": 8,
      "metadata": {
        "id": "TW-vT7eLYAdb"
      },
      "outputs": [
        {
          "name": "stdout",
          "output_type": "stream",
          "text": [
            "Model: \"sequential\"\n",
            "_________________________________________________________________\n",
            " Layer (type)                Output Shape              Param #   \n",
            "=================================================================\n",
            " dense (Dense)               (None, 10)                210       \n",
            "                                                                 \n",
            " dense_1 (Dense)             (None, 10)                110       \n",
            "                                                                 \n",
            " dense_2 (Dense)             (None, 1)                 11        \n",
            "                                                                 \n",
            "=================================================================\n",
            "Total params: 331\n",
            "Trainable params: 331\n",
            "Non-trainable params: 0\n",
            "_________________________________________________________________\n"
          ]
        }
      ],
      "source": [
        "# Build the model\n",
        "model_baseline = tf.keras.models.Sequential([\n",
        "    tf.keras.layers.Dense(10, input_shape=[window_size], activation=\"relu\"), \n",
        "    tf.keras.layers.Dense(10, activation=\"relu\"), \n",
        "    tf.keras.layers.Dense(1)\n",
        "])\n",
        "\n",
        "# Print the model summary\n",
        "model_baseline.summary()"
      ]
    },
    {
      "cell_type": "markdown",
      "metadata": {
        "id": "4xWDKTGR7XQd"
      },
      "source": [
        "## Train the Model\n",
        "\n",
        "You will then compile and train the model using the same settings as before. Observe how the loss is decreasing because you will revisit it later in this lab."
      ]
    },
    {
      "cell_type": "code",
      "execution_count": 9,
      "metadata": {
        "id": "unwiKhWn7nqS"
      },
      "outputs": [],
      "source": [
        "# Set the training parameters\n",
        "model_baseline.compile(loss=\"mse\", optimizer=tf.keras.optimizers.SGD(learning_rate=1e-6, momentum=0.9))"
      ]
    },
    {
      "cell_type": "code",
      "execution_count": 10,
      "metadata": {
        "id": "zqVlvuneFqJz"
      },
      "outputs": [
        {
          "name": "stdout",
          "output_type": "stream",
          "text": [
            "Epoch 1/100\n",
            "31/31 [==============================] - 1s 35ms/step - loss: 328.8283\n",
            "Epoch 2/100\n",
            "31/31 [==============================] - 0s 898us/step - loss: 130.9986\n",
            "Epoch 3/100\n",
            "31/31 [==============================] - 0s 997us/step - loss: 110.0878\n",
            "Epoch 4/100\n",
            "31/31 [==============================] - 0s 864us/step - loss: 96.3055\n",
            "Epoch 5/100\n",
            "31/31 [==============================] - 0s 864us/step - loss: 87.7304\n",
            "Epoch 6/100\n",
            "31/31 [==============================] - 0s 931us/step - loss: 81.0077\n",
            "Epoch 7/100\n",
            "31/31 [==============================] - 0s 765us/step - loss: 75.5089\n",
            "Epoch 8/100\n",
            "31/31 [==============================] - 0s 2ms/step - loss: 70.1947\n",
            "Epoch 9/100\n",
            "31/31 [==============================] - 0s 1ms/step - loss: 65.3524\n",
            "Epoch 10/100\n",
            "31/31 [==============================] - 0s 997us/step - loss: 61.7259\n",
            "Epoch 11/100\n",
            "31/31 [==============================] - 0s 831us/step - loss: 60.2537\n",
            "Epoch 12/100\n",
            "31/31 [==============================] - 0s 997us/step - loss: 57.5664\n",
            "Epoch 13/100\n",
            "31/31 [==============================] - 0s 931us/step - loss: 56.6694\n",
            "Epoch 14/100\n",
            "31/31 [==============================] - 0s 931us/step - loss: 55.3691\n",
            "Epoch 15/100\n",
            "31/31 [==============================] - 0s 931us/step - loss: 54.8347\n",
            "Epoch 16/100\n",
            "31/31 [==============================] - 0s 981us/step - loss: 55.8805\n",
            "Epoch 17/100\n",
            "31/31 [==============================] - 0s 798us/step - loss: 53.8939\n",
            "Epoch 18/100\n",
            "31/31 [==============================] - 0s 1ms/step - loss: 53.5272\n",
            "Epoch 19/100\n",
            "31/31 [==============================] - 0s 1ms/step - loss: 53.5916\n",
            "Epoch 20/100\n",
            "31/31 [==============================] - 0s 2ms/step - loss: 52.9285\n",
            "Epoch 21/100\n",
            "31/31 [==============================] - 0s 997us/step - loss: 52.4586\n",
            "Epoch 22/100\n",
            "31/31 [==============================] - 0s 1ms/step - loss: 52.0902\n",
            "Epoch 23/100\n",
            "31/31 [==============================] - 0s 1ms/step - loss: 52.0638\n",
            "Epoch 24/100\n",
            "31/31 [==============================] - 0s 964us/step - loss: 52.2180\n",
            "Epoch 25/100\n",
            "31/31 [==============================] - 0s 864us/step - loss: 51.4123\n",
            "Epoch 26/100\n",
            "31/31 [==============================] - 0s 1ms/step - loss: 51.3499\n",
            "Epoch 27/100\n",
            "31/31 [==============================] - 0s 831us/step - loss: 50.9960\n",
            "Epoch 28/100\n",
            "31/31 [==============================] - 0s 1ms/step - loss: 51.3053\n",
            "Epoch 29/100\n",
            "31/31 [==============================] - 0s 1ms/step - loss: 50.7482\n",
            "Epoch 30/100\n",
            "31/31 [==============================] - 0s 1ms/step - loss: 50.1646\n",
            "Epoch 31/100\n",
            "31/31 [==============================] - 0s 2ms/step - loss: 50.0190\n",
            "Epoch 32/100\n",
            "31/31 [==============================] - 0s 1ms/step - loss: 49.9672\n",
            "Epoch 33/100\n",
            "31/31 [==============================] - 0s 1ms/step - loss: 50.0721\n",
            "Epoch 34/100\n",
            "31/31 [==============================] - 0s 898us/step - loss: 49.6893\n",
            "Epoch 35/100\n",
            "31/31 [==============================] - 0s 1ms/step - loss: 49.3877\n",
            "Epoch 36/100\n",
            "31/31 [==============================] - 0s 931us/step - loss: 49.2914\n",
            "Epoch 37/100\n",
            "31/31 [==============================] - 0s 1ms/step - loss: 49.7256\n",
            "Epoch 38/100\n",
            "31/31 [==============================] - 0s 997us/step - loss: 50.1696\n",
            "Epoch 39/100\n",
            "31/31 [==============================] - 0s 931us/step - loss: 49.1342\n",
            "Epoch 40/100\n",
            "31/31 [==============================] - 0s 964us/step - loss: 48.9395\n",
            "Epoch 41/100\n",
            "31/31 [==============================] - 0s 798us/step - loss: 48.4339\n",
            "Epoch 42/100\n",
            "31/31 [==============================] - 0s 797us/step - loss: 48.4148\n",
            "Epoch 43/100\n",
            "31/31 [==============================] - 0s 731us/step - loss: 48.9213\n",
            "Epoch 44/100\n",
            "31/31 [==============================] - 0s 798us/step - loss: 47.9207\n",
            "Epoch 45/100\n",
            "31/31 [==============================] - 0s 831us/step - loss: 48.0726\n",
            "Epoch 46/100\n",
            "31/31 [==============================] - 0s 848us/step - loss: 47.9338\n",
            "Epoch 47/100\n",
            "31/31 [==============================] - 0s 981us/step - loss: 48.2311\n",
            "Epoch 48/100\n",
            "31/31 [==============================] - 0s 1ms/step - loss: 47.6909\n",
            "Epoch 49/100\n",
            "31/31 [==============================] - 0s 1ms/step - loss: 47.9852\n",
            "Epoch 50/100\n",
            "31/31 [==============================] - 0s 997us/step - loss: 47.4417\n",
            "Epoch 51/100\n",
            "31/31 [==============================] - 0s 1ms/step - loss: 47.5632\n",
            "Epoch 52/100\n",
            "31/31 [==============================] - 0s 864us/step - loss: 47.3567\n",
            "Epoch 53/100\n",
            "31/31 [==============================] - 0s 898us/step - loss: 47.0901\n",
            "Epoch 54/100\n",
            "31/31 [==============================] - 0s 864us/step - loss: 47.4698\n",
            "Epoch 55/100\n",
            "31/31 [==============================] - 0s 798us/step - loss: 47.7789\n",
            "Epoch 56/100\n",
            "31/31 [==============================] - 0s 864us/step - loss: 48.0724\n",
            "Epoch 57/100\n",
            "31/31 [==============================] - 0s 1ms/step - loss: 46.9955\n",
            "Epoch 58/100\n",
            "31/31 [==============================] - 0s 1ms/step - loss: 47.0530\n",
            "Epoch 59/100\n",
            "31/31 [==============================] - 0s 964us/step - loss: 46.7277\n",
            "Epoch 60/100\n",
            "31/31 [==============================] - 0s 731us/step - loss: 46.6004\n",
            "Epoch 61/100\n",
            "31/31 [==============================] - 0s 831us/step - loss: 46.3987\n",
            "Epoch 62/100\n",
            "31/31 [==============================] - 0s 1ms/step - loss: 46.2347\n",
            "Epoch 63/100\n",
            "31/31 [==============================] - 0s 1ms/step - loss: 46.1810\n",
            "Epoch 64/100\n",
            "31/31 [==============================] - 0s 931us/step - loss: 46.2035\n",
            "Epoch 65/100\n",
            "31/31 [==============================] - 0s 1ms/step - loss: 46.0786\n",
            "Epoch 66/100\n",
            "31/31 [==============================] - 0s 964us/step - loss: 45.9458\n",
            "Epoch 67/100\n",
            "31/31 [==============================] - 0s 931us/step - loss: 45.7630\n",
            "Epoch 68/100\n",
            "31/31 [==============================] - 0s 915us/step - loss: 45.8613\n",
            "Epoch 69/100\n",
            "31/31 [==============================] - 0s 831us/step - loss: 45.7588\n",
            "Epoch 70/100\n",
            "31/31 [==============================] - 0s 731us/step - loss: 45.8796\n",
            "Epoch 71/100\n",
            "31/31 [==============================] - 0s 964us/step - loss: 45.8224\n",
            "Epoch 72/100\n",
            "31/31 [==============================] - 0s 1ms/step - loss: 45.7481\n",
            "Epoch 73/100\n",
            "31/31 [==============================] - 0s 997us/step - loss: 45.4996\n",
            "Epoch 74/100\n",
            "31/31 [==============================] - 0s 898us/step - loss: 45.9479\n",
            "Epoch 75/100\n",
            "31/31 [==============================] - 0s 765us/step - loss: 45.4300\n",
            "Epoch 76/100\n",
            "31/31 [==============================] - 0s 831us/step - loss: 45.1860\n",
            "Epoch 77/100\n",
            "31/31 [==============================] - 0s 798us/step - loss: 45.5285\n",
            "Epoch 78/100\n",
            "31/31 [==============================] - 0s 864us/step - loss: 45.1560\n",
            "Epoch 79/100\n",
            "31/31 [==============================] - 0s 698us/step - loss: 45.5547\n",
            "Epoch 80/100\n",
            "31/31 [==============================] - 0s 1ms/step - loss: 45.2552\n",
            "Epoch 81/100\n",
            "31/31 [==============================] - 0s 864us/step - loss: 44.9283\n",
            "Epoch 82/100\n",
            "31/31 [==============================] - 0s 998us/step - loss: 45.0169\n",
            "Epoch 83/100\n",
            "31/31 [==============================] - 0s 864us/step - loss: 45.3323\n",
            "Epoch 84/100\n",
            "31/31 [==============================] - 0s 765us/step - loss: 45.2780\n",
            "Epoch 85/100\n",
            "31/31 [==============================] - 0s 698us/step - loss: 44.8118\n",
            "Epoch 86/100\n",
            "31/31 [==============================] - 0s 831us/step - loss: 44.7546\n",
            "Epoch 87/100\n",
            "31/31 [==============================] - 0s 898us/step - loss: 44.5254\n",
            "Epoch 88/100\n",
            "31/31 [==============================] - 0s 731us/step - loss: 44.9662\n",
            "Epoch 89/100\n",
            "31/31 [==============================] - 0s 730us/step - loss: 44.7806\n",
            "Epoch 90/100\n",
            "31/31 [==============================] - 0s 665us/step - loss: 44.4598\n",
            "Epoch 91/100\n",
            "31/31 [==============================] - 0s 698us/step - loss: 44.4392\n",
            "Epoch 92/100\n",
            "31/31 [==============================] - 0s 765us/step - loss: 44.5829\n",
            "Epoch 93/100\n",
            "31/31 [==============================] - 0s 665us/step - loss: 44.2809\n",
            "Epoch 94/100\n",
            "31/31 [==============================] - 0s 898us/step - loss: 44.5956\n",
            "Epoch 95/100\n",
            "31/31 [==============================] - 0s 765us/step - loss: 44.5516\n",
            "Epoch 96/100\n",
            "31/31 [==============================] - 0s 665us/step - loss: 45.1027\n",
            "Epoch 97/100\n",
            "31/31 [==============================] - 0s 731us/step - loss: 44.3506\n",
            "Epoch 98/100\n",
            "31/31 [==============================] - 0s 765us/step - loss: 44.2738\n",
            "Epoch 99/100\n",
            "31/31 [==============================] - 0s 731us/step - loss: 44.2208\n",
            "Epoch 100/100\n",
            "31/31 [==============================] - 0s 632us/step - loss: 44.1915\n"
          ]
        },
        {
          "data": {
            "text/plain": [
              "<keras.callbacks.History at 0x247f0797e80>"
            ]
          },
          "execution_count": 10,
          "metadata": {},
          "output_type": "execute_result"
        }
      ],
      "source": [
        "# Train the model\n",
        "model_baseline.fit(dataset,epochs=100)"
      ]
    },
    {
      "cell_type": "markdown",
      "metadata": {
        "id": "0-5QVzo1Tv-_"
      },
      "source": [
        "You can then get some predictions and visualize it as before. Since the network is deeper, the predictions might go slower so you may want to minimize unnecessary computations. \n",
        "\n",
        "In the previous lab, you might remember the model generating predictions using the entire `series` data. That resulted in 1,441 points in the `forecast` list then you sliced the 461 points that aligns with the validation set using `forecast = forecast[split_time - window_size:]`. \n",
        "\n",
        "You can make this process faster by just generating 461 points right from the start. That way, you don't waste time predicting points that will just be thrown away later. The code below will do just that. It will just get the points needed from the original `series` before calling the `predict()` method. With that, all predictions will align with the validation set already and the for-loop will run for only 461 times instead of 1,441. \n",
        "\n",
        "In the next lab, you'll see an even faster way to generate these predictions."
      ]
    },
    {
      "cell_type": "code",
      "execution_count": 11,
      "metadata": {
        "id": "efhco2rYyIFF"
      },
      "outputs": [
        {
          "data": {
            "image/png": "[encoded data removed]",
            "text/plain": [
              "<Figure size 720x432 with 1 Axes>"
            ]
          },
          "metadata": {
            "needs_background": "light"
          },
          "output_type": "display_data"
        }
      ],
      "source": [
        "# Initialize a list\n",
        "forecast = []\n",
        "\n",
        "# Reduce the original series\n",
        "forecast_series = series[split_time - window_size:]\n",
        "\n",
        "# Use the model to predict data points per window size\n",
        "for time in range(len(forecast_series) - window_size):\n",
        "  forecast.append(model_baseline.predict(forecast_series[time:time + window_size][np.newaxis]))\n",
        "\n",
        "# Convert to a numpy array and drop single dimensional axes\n",
        "results = np.array(forecast).squeeze()\n",
        "\n",
        "# Plot the results\n",
        "plot_series(time_valid, (x_valid, results))"
      ]
    },
    {
      "cell_type": "markdown",
      "metadata": {
        "id": "Lk5VkqNjh8Ws"
      },
      "source": [
        "You can then get the MSE and MAE for reference."
      ]
    },
    {
      "cell_type": "code",
      "execution_count": 12,
      "metadata": {
        "id": "-kT6j186YO6K"
      },
      "outputs": [
        {
          "name": "stdout",
          "output_type": "stream",
          "text": [
            "46.092136\n",
            "4.9149337\n"
          ]
        }
      ],
      "source": [
        "# Compute the metrics\n",
        "print(tf.keras.metrics.mean_squared_error(x_valid, results).numpy())\n",
        "print(tf.keras.metrics.mean_absolute_error(x_valid, results).numpy())"
      ]
    },
    {
      "cell_type": "markdown",
      "metadata": {
        "id": "tQB2gyq18YvD"
      },
      "source": [
        "## Tune the learning rate\n",
        "\n",
        "You saw that the training went well with the initial learning rate that you chose (i.e. `1e-6`). However, you're not yet sure if it is the best setting for this particular model. It might seem inconsequential in this simple model but when you have more complex ones, spending some time to tune the learning rate can lead to better training results. You will see how to do that in this section.\n",
        "\n",
        "First, you will build the same model architecture you just used."
      ]
    },
    {
      "cell_type": "code",
      "execution_count": 13,
      "metadata": {
        "id": "tnCe_nBKu7RB"
      },
      "outputs": [],
      "source": [
        "# Build the Model\n",
        "model_tune = tf.keras.models.Sequential([\n",
        "    tf.keras.layers.Dense(10, input_shape=[window_size], activation=\"relu\"), \n",
        "    tf.keras.layers.Dense(10, activation=\"relu\"), \n",
        "    tf.keras.layers.Dense(1)\n",
        "])"
      ]
    },
    {
      "cell_type": "markdown",
      "metadata": {
        "id": "CTSWS74Qj-G0"
      },
      "source": [
        "Next, you will declare a [learning rate scheduler](https://www.tensorflow.org/api_docs/python/tf/keras/callbacks/LearningRateScheduler) callback. This will allow you to dynamically set the learning rate based on the epoch number during training. As shown below, you will pass a lambda function to declare the value of the learning rate. It will start at `1e-8` at epoch 0 and is scaled by `10**(epoch / 20)` as the training goes on."
      ]
    },
    {
      "cell_type": "code",
      "execution_count": 14,
      "metadata": {
        "id": "6FDVah6-885n"
      },
      "outputs": [],
      "source": [
        "# Set the learning rate scheduler\n",
        "lr_schedule = tf.keras.callbacks.LearningRateScheduler(\n",
        "    lambda epoch: 1e-8 * 10**(epoch / 20))"
      ]
    },
    {
      "cell_type": "markdown",
      "metadata": {
        "id": "M4SJZxL1lqPX"
      },
      "source": [
        "You will then compile the model. Just to note a subtle difference with the lecture video, you don't have to set the `learning_rate` argument of the optimizer here before compiling. You can just leave the default (i.e. [`0.01` for SGD](https://www.tensorflow.org/api_docs/python/tf/keras/optimizers/SGD#args)) and allow the learning rate scheduler to set it dynamically."
      ]
    },
    {
      "cell_type": "code",
      "execution_count": 15,
      "metadata": {
        "id": "66MDQGRc9AKU"
      },
      "outputs": [],
      "source": [
        "# Initialize the optimizer\n",
        "optimizer = tf.keras.optimizers.SGD(momentum=0.9)\n",
        "\n",
        "# Set the training parameters\n",
        "model_tune.compile(loss=\"mse\", optimizer=optimizer)"
      ]
    },
    {
      "cell_type": "markdown",
      "metadata": {
        "id": "zMgbgBYzmXBi"
      },
      "source": [
        "You will pass in the `lr_schedule` callback in the `callbacks` parameter of the [`fit()`](https://www.tensorflow.org/api_docs/python/tf/keras/Model#fit) method. As you run the training below, you will see the learning rate at a particular epoch denoted by `lr` in the console output. Notice that it is increasing as expected based on the lambda function you used."
      ]
    },
    {
      "cell_type": "code",
      "execution_count": 16,
      "metadata": {
        "id": "Ef5o5DmQkuuy"
      },
      "outputs": [
        {
          "name": "stdout",
          "output_type": "stream",
          "text": [
            "Epoch 1/100\n",
            "31/31 [==============================] - 0s 1ms/step - loss: 9693.6094 - lr: 1.0000e-08\n",
            "Epoch 2/100\n",
            "31/31 [==============================] - 0s 915us/step - loss: 3363.3750 - lr: 1.1220e-08\n",
            "Epoch 3/100\n",
            "31/31 [==============================] - 0s 931us/step - loss: 1461.1984 - lr: 1.2589e-08\n",
            "Epoch 4/100\n",
            "31/31 [==============================] - 0s 765us/step - loss: 772.1053 - lr: 1.4125e-08\n",
            "Epoch 5/100\n",
            "31/31 [==============================] - 0s 798us/step - loss: 421.7429 - lr: 1.5849e-08\n",
            "Epoch 6/100\n",
            "31/31 [==============================] - 0s 2ms/step - loss: 261.9064 - lr: 1.7783e-08\n",
            "Epoch 7/100\n",
            "31/31 [==============================] - 0s 1ms/step - loss: 194.2070 - lr: 1.9953e-08\n",
            "Epoch 8/100\n",
            "31/31 [==============================] - 0s 665us/step - loss: 162.1562 - lr: 2.2387e-08\n",
            "Epoch 9/100\n",
            "31/31 [==============================] - 0s 698us/step - loss: 146.3891 - lr: 2.5119e-08\n",
            "Epoch 10/100\n",
            "31/31 [==============================] - 0s 665us/step - loss: 138.0293 - lr: 2.8184e-08\n",
            "Epoch 11/100\n",
            "31/31 [==============================] - 0s 731us/step - loss: 132.8031 - lr: 3.1623e-08\n",
            "Epoch 12/100\n",
            "31/31 [==============================] - 0s 731us/step - loss: 128.7793 - lr: 3.5481e-08\n",
            "Epoch 13/100\n",
            "31/31 [==============================] - 0s 731us/step - loss: 125.1074 - lr: 3.9811e-08\n",
            "Epoch 14/100\n",
            "31/31 [==============================] - 0s 765us/step - loss: 121.4277 - lr: 4.4668e-08\n",
            "Epoch 15/100\n",
            "31/31 [==============================] - 0s 864us/step - loss: 117.9543 - lr: 5.0119e-08\n",
            "Epoch 16/100\n",
            "31/31 [==============================] - 0s 698us/step - loss: 114.4991 - lr: 5.6234e-08\n",
            "Epoch 17/100\n",
            "31/31 [==============================] - 0s 665us/step - loss: 111.3379 - lr: 6.3096e-08\n",
            "Epoch 18/100\n",
            "31/31 [==============================] - 0s 731us/step - loss: 108.1525 - lr: 7.0795e-08\n",
            "Epoch 19/100\n",
            "31/31 [==============================] - 0s 632us/step - loss: 105.3369 - lr: 7.9433e-08\n",
            "Epoch 20/100\n",
            "31/31 [==============================] - 0s 698us/step - loss: 102.4978 - lr: 8.9125e-08\n",
            "Epoch 21/100\n",
            "31/31 [==============================] - 0s 665us/step - loss: 99.7756 - lr: 1.0000e-07\n",
            "Epoch 22/100\n",
            "31/31 [==============================] - 0s 1ms/step - loss: 97.2738 - lr: 1.1220e-07\n",
            "Epoch 23/100\n",
            "31/31 [==============================] - 0s 898us/step - loss: 95.0008 - lr: 1.2589e-07\n",
            "Epoch 24/100\n",
            "31/31 [==============================] - 0s 964us/step - loss: 92.7399 - lr: 1.4125e-07\n",
            "Epoch 25/100\n",
            "31/31 [==============================] - 0s 715us/step - loss: 90.7160 - lr: 1.5849e-07\n",
            "Epoch 26/100\n",
            "31/31 [==============================] - 0s 698us/step - loss: 88.8077 - lr: 1.7783e-07\n",
            "Epoch 27/100\n",
            "31/31 [==============================] - 0s 931us/step - loss: 87.0029 - lr: 1.9953e-07\n",
            "Epoch 28/100\n",
            "31/31 [==============================] - 0s 731us/step - loss: 85.3073 - lr: 2.2387e-07\n",
            "Epoch 29/100\n",
            "31/31 [==============================] - 0s 665us/step - loss: 83.7041 - lr: 2.5119e-07\n",
            "Epoch 30/100\n",
            "31/31 [==============================] - 0s 948us/step - loss: 81.7363 - lr: 2.8184e-07\n",
            "Epoch 31/100\n",
            "31/31 [==============================] - 0s 951us/step - loss: 80.0170 - lr: 3.1623e-07\n",
            "Epoch 32/100\n",
            "31/31 [==============================] - 0s 864us/step - loss: 78.3546 - lr: 3.5481e-07\n",
            "Epoch 33/100\n",
            "31/31 [==============================] - 0s 2ms/step - loss: 76.6336 - lr: 3.9811e-07\n",
            "Epoch 34/100\n",
            "31/31 [==============================] - 0s 964us/step - loss: 74.3981 - lr: 4.4668e-07\n",
            "Epoch 35/100\n",
            "31/31 [==============================] - 0s 931us/step - loss: 73.0028 - lr: 5.0119e-07\n",
            "Epoch 36/100\n",
            "31/31 [==============================] - 0s 698us/step - loss: 71.1088 - lr: 5.6234e-07\n",
            "Epoch 37/100\n",
            "31/31 [==============================] - 0s 964us/step - loss: 68.6473 - lr: 6.3096e-07\n",
            "Epoch 38/100\n",
            "31/31 [==============================] - 0s 981us/step - loss: 66.4720 - lr: 7.0795e-07\n",
            "Epoch 39/100\n",
            "31/31 [==============================] - 0s 798us/step - loss: 64.4033 - lr: 7.9433e-07\n",
            "Epoch 40/100\n",
            "31/31 [==============================] - 0s 1ms/step - loss: 62.1683 - lr: 8.9125e-07\n",
            "Epoch 41/100\n",
            "31/31 [==============================] - 0s 665us/step - loss: 59.9277 - lr: 1.0000e-06\n",
            "Epoch 42/100\n",
            "31/31 [==============================] - 0s 898us/step - loss: 58.4745 - lr: 1.1220e-06\n",
            "Epoch 43/100\n",
            "31/31 [==============================] - 0s 798us/step - loss: 56.6504 - lr: 1.2589e-06\n",
            "Epoch 44/100\n",
            "31/31 [==============================] - 0s 964us/step - loss: 54.9725 - lr: 1.4125e-06\n",
            "Epoch 45/100\n",
            "31/31 [==============================] - 0s 698us/step - loss: 53.3802 - lr: 1.5849e-06\n",
            "Epoch 46/100\n",
            "31/31 [==============================] - 0s 1ms/step - loss: 52.9417 - lr: 1.7783e-06\n",
            "Epoch 47/100\n",
            "31/31 [==============================] - 0s 798us/step - loss: 52.1501 - lr: 1.9953e-06\n",
            "Epoch 48/100\n",
            "31/31 [==============================] - 0s 1ms/step - loss: 51.5329 - lr: 2.2387e-06\n",
            "Epoch 49/100\n",
            "31/31 [==============================] - 0s 864us/step - loss: 51.3366 - lr: 2.5119e-06\n",
            "Epoch 50/100\n",
            "31/31 [==============================] - 0s 1ms/step - loss: 53.2062 - lr: 2.8184e-06\n",
            "Epoch 51/100\n",
            "31/31 [==============================] - 0s 1ms/step - loss: 50.6235 - lr: 3.1623e-06\n",
            "Epoch 52/100\n",
            "31/31 [==============================] - 0s 1ms/step - loss: 51.3027 - lr: 3.5481e-06\n",
            "Epoch 53/100\n",
            "31/31 [==============================] - 0s 731us/step - loss: 49.8183 - lr: 3.9811e-06\n",
            "Epoch 54/100\n",
            "31/31 [==============================] - 0s 665us/step - loss: 49.7643 - lr: 4.4668e-06\n",
            "Epoch 55/100\n",
            "31/31 [==============================] - 0s 665us/step - loss: 48.3224 - lr: 5.0119e-06\n",
            "Epoch 56/100\n",
            "31/31 [==============================] - 0s 765us/step - loss: 49.6543 - lr: 5.6234e-06\n",
            "Epoch 57/100\n",
            "31/31 [==============================] - 0s 798us/step - loss: 50.7591 - lr: 6.3096e-06\n",
            "Epoch 58/100\n",
            "31/31 [==============================] - 0s 831us/step - loss: 48.8883 - lr: 7.0795e-06\n",
            "Epoch 59/100\n",
            "31/31 [==============================] - 0s 931us/step - loss: 51.7373 - lr: 7.9433e-06\n",
            "Epoch 60/100\n",
            "31/31 [==============================] - 0s 798us/step - loss: 53.6875 - lr: 8.9125e-06\n",
            "Epoch 61/100\n",
            "31/31 [==============================] - 0s 815us/step - loss: 55.5724 - lr: 1.0000e-05\n",
            "Epoch 62/100\n",
            "31/31 [==============================] - 0s 731us/step - loss: 47.3266 - lr: 1.1220e-05\n",
            "Epoch 63/100\n",
            "31/31 [==============================] - 0s 731us/step - loss: 49.1101 - lr: 1.2589e-05\n",
            "Epoch 64/100\n",
            "31/31 [==============================] - 0s 931us/step - loss: 55.3743 - lr: 1.4125e-05\n",
            "Epoch 65/100\n",
            "31/31 [==============================] - 0s 765us/step - loss: 52.1086 - lr: 1.5849e-05\n",
            "Epoch 66/100\n",
            "31/31 [==============================] - 0s 964us/step - loss: 68.5829 - lr: 1.7783e-05\n",
            "Epoch 67/100\n",
            "31/31 [==============================] - 0s 765us/step - loss: 52.3641 - lr: 1.9953e-05\n",
            "Epoch 68/100\n",
            "31/31 [==============================] - 0s 765us/step - loss: 45.6834 - lr: 2.2387e-05\n",
            "Epoch 69/100\n",
            "31/31 [==============================] - 0s 798us/step - loss: 46.7320 - lr: 2.5119e-05\n",
            "Epoch 70/100\n",
            "31/31 [==============================] - 0s 665us/step - loss: 47.1150 - lr: 2.8184e-05\n",
            "Epoch 71/100\n",
            "31/31 [==============================] - 0s 931us/step - loss: 47.9066 - lr: 3.1623e-05\n",
            "Epoch 72/100\n",
            "31/31 [==============================] - 0s 665us/step - loss: 53.6588 - lr: 3.5481e-05\n",
            "Epoch 73/100\n",
            "31/31 [==============================] - 0s 1ms/step - loss: 81.1587 - lr: 3.9811e-05\n",
            "Epoch 74/100\n",
            "31/31 [==============================] - 0s 697us/step - loss: 50.5688 - lr: 4.4668e-05\n",
            "Epoch 75/100\n",
            "31/31 [==============================] - 0s 731us/step - loss: 54.2681 - lr: 5.0119e-05\n",
            "Epoch 76/100\n",
            "31/31 [==============================] - 0s 765us/step - loss: 63.9923 - lr: 5.6234e-05\n",
            "Epoch 77/100\n",
            "31/31 [==============================] - 0s 698us/step - loss: 55.2880 - lr: 6.3096e-05\n",
            "Epoch 78/100\n",
            "31/31 [==============================] - 0s 965us/step - loss: 1216.6655 - lr: 7.0795e-05\n",
            "Epoch 79/100\n",
            "31/31 [==============================] - 0s 698us/step - loss: 2146.6702 - lr: 7.9433e-05\n",
            "Epoch 80/100\n",
            "31/31 [==============================] - 0s 931us/step - loss: 1983.9656 - lr: 8.9125e-05\n",
            "Epoch 81/100\n",
            "31/31 [==============================] - 0s 765us/step - loss: 1816.5210 - lr: 1.0000e-04\n",
            "Epoch 82/100\n",
            "31/31 [==============================] - 0s 798us/step - loss: 1648.8577 - lr: 1.1220e-04\n",
            "Epoch 83/100\n",
            "31/31 [==============================] - 0s 765us/step - loss: 1485.4540 - lr: 1.2589e-04\n",
            "Epoch 84/100\n",
            "31/31 [==============================] - 0s 698us/step - loss: 1327.0201 - lr: 1.4125e-04\n",
            "Epoch 85/100\n",
            "31/31 [==============================] - 0s 1ms/step - loss: 1177.1677 - lr: 1.5849e-04\n",
            "Epoch 86/100\n",
            "31/31 [==============================] - 0s 798us/step - loss: 1037.7982 - lr: 1.7783e-04\n",
            "Epoch 87/100\n",
            "31/31 [==============================] - 0s 1ms/step - loss: 913.0089 - lr: 1.9953e-04\n",
            "Epoch 88/100\n",
            "31/31 [==============================] - 0s 1ms/step - loss: 800.9124 - lr: 2.2387e-04\n",
            "Epoch 89/100\n",
            "31/31 [==============================] - 0s 1ms/step - loss: 708.6908 - lr: 2.5119e-04\n",
            "Epoch 90/100\n",
            "31/31 [==============================] - 0s 798us/step - loss: 627.5130 - lr: 2.8184e-04\n",
            "Epoch 91/100\n",
            "31/31 [==============================] - 0s 891us/step - loss: 988.2175 - lr: 3.1623e-04\n",
            "Epoch 92/100\n",
            "31/31 [==============================] - 0s 864us/step - loss: 526.1929 - lr: 3.5481e-04\n",
            "Epoch 93/100\n",
            "31/31 [==============================] - 0s 698us/step - loss: 494.4318 - lr: 3.9811e-04\n",
            "Epoch 94/100\n",
            "31/31 [==============================] - 0s 731us/step - loss: 473.6923 - lr: 4.4668e-04\n",
            "Epoch 95/100\n",
            "31/31 [==============================] - 0s 665us/step - loss: 460.2904 - lr: 5.0119e-04\n",
            "Epoch 96/100\n",
            "31/31 [==============================] - 0s 765us/step - loss: 452.7456 - lr: 5.6234e-04\n",
            "Epoch 97/100\n",
            "31/31 [==============================] - 0s 798us/step - loss: 448.4175 - lr: 6.3096e-04\n",
            "Epoch 98/100\n",
            "31/31 [==============================] - 0s 765us/step - loss: 446.4461 - lr: 7.0795e-04\n",
            "Epoch 99/100\n",
            "31/31 [==============================] - 0s 798us/step - loss: 445.5404 - lr: 7.9433e-04\n",
            "Epoch 100/100\n",
            "31/31 [==============================] - 0s 1ms/step - loss: 445.1641 - lr: 8.9125e-04\n"
          ]
        }
      ],
      "source": [
        "# Train the model\n",
        "history = model_tune.fit(dataset, epochs=100, callbacks=[lr_schedule])"
      ]
    },
    {
      "cell_type": "markdown",
      "metadata": {
        "id": "Sz9yLyRkkuet"
      },
      "source": [
        "Next step is to plot the results of the training. You will visualize the loss at each value of the learning rate."
      ]
    },
    {
      "cell_type": "code",
      "execution_count": 17,
      "metadata": {
        "id": "2ZaNsM2IgCd_"
      },
      "outputs": [
        {
          "data": {
            "text/plain": [
              "(1e-08, 0.001, 0.0, 300.0)"
            ]
          },
          "execution_count": 17,
          "metadata": {},
          "output_type": "execute_result"
        },
        {
          "data": {
            "image/png": "[encoded data removed]",
            "text/plain": [
              "<Figure size 720x432 with 1 Axes>"
            ]
          },
          "metadata": {
            "needs_background": "light"
          },
          "output_type": "display_data"
        }
      ],
      "source": [
        "# Define the learning rate array\n",
        "lrs = 1e-8 * (10 ** (np.arange(100) / 20))\n",
        "\n",
        "# Set the figure size\n",
        "plt.figure(figsize=(10, 6))\n",
        "\n",
        "# Set the grid\n",
        "plt.grid(True)\n",
        "\n",
        "# Plot the loss in log scale\n",
        "plt.semilogx(lrs, history.history[\"loss\"])\n",
        "\n",
        "# Increase the tickmarks size\n",
        "plt.tick_params('both', length=10, width=1, which='both')\n",
        "\n",
        "# Set the plot boundaries\n",
        "plt.axis([1e-8, 1e-3, 0, 300])"
      ]
    },
    {
      "cell_type": "markdown",
      "metadata": {
        "id": "obCq2g0qn0GD"
      },
      "source": [
        "The generated graph above shows the values of the range of learning rates that leads to lower losses (i.e. sloping downward) and also which ones cause the training to become unstable (i.e. jagged edges and pointing upwards). In general, you will want to pick a point in a downward slope. That means the network is still learning at that point and is stable. Choosing close to the minimum point of the graph will make the training converge to that loss value quicker, as will be shown in the next cells.\n",
        "\n",
        "First, you will initialize the same model architecture again."
      ]
    },
    {
      "cell_type": "code",
      "execution_count": 18,
      "metadata": {
        "id": "F7vzeS6BKUb_"
      },
      "outputs": [],
      "source": [
        "# Build the model\n",
        "model_tune = tf.keras.models.Sequential([\n",
        "  tf.keras.layers.Dense(10, activation=\"relu\", input_shape=[window_size]),\n",
        "  tf.keras.layers.Dense(10, activation=\"relu\"),\n",
        "  tf.keras.layers.Dense(1)\n",
        "])"
      ]
    },
    {
      "cell_type": "markdown",
      "metadata": {
        "id": "9gjrVfgWp3ku"
      },
      "source": [
        "You will then set the optimizer with a learning rate close to the minimum. It is set to `4e-6` initially but feel free to change based on your results."
      ]
    },
    {
      "cell_type": "code",
      "execution_count": 19,
      "metadata": {
        "id": "nVHuxnXMKjja"
      },
      "outputs": [],
      "source": [
        "# Set the optimizer with the tuned learning rate\n",
        "optimizer = tf.keras.optimizers.SGD(learning_rate=4e-6, momentum=0.9)"
      ]
    },
    {
      "cell_type": "markdown",
      "metadata": {
        "id": "pyrhSDU5qPn6"
      },
      "source": [
        "You can then compile and train the model as before. Observe the loss values and compare it to the output of the baseline model you had before. Most likely, you will have met the final loss value of the `model_baseline` within the first 50 epochs of training this `model_tune`. You will also likely have a lower loss after all 100 epochs are done."
      ]
    },
    {
      "cell_type": "code",
      "execution_count": 20,
      "metadata": {
        "id": "rDNeYqqzqQ-s"
      },
      "outputs": [
        {
          "name": "stdout",
          "output_type": "stream",
          "text": [
            "Epoch 1/100\n",
            "31/31 [==============================] - 0s 2ms/step - loss: 646.7563\n",
            "Epoch 2/100\n",
            "31/31 [==============================] - 0s 1ms/step - loss: 95.9247\n",
            "Epoch 3/100\n",
            "31/31 [==============================] - 0s 1ms/step - loss: 81.0076\n",
            "Epoch 4/100\n",
            "31/31 [==============================] - 0s 765us/step - loss: 76.9417\n",
            "Epoch 5/100\n",
            "31/31 [==============================] - 0s 798us/step - loss: 72.8749\n",
            "Epoch 6/100\n",
            "31/31 [==============================] - 0s 898us/step - loss: 72.1555\n",
            "Epoch 7/100\n",
            "31/31 [==============================] - 0s 1ms/step - loss: 69.0432\n",
            "Epoch 8/100\n",
            "31/31 [==============================] - 0s 997us/step - loss: 66.3052\n",
            "Epoch 9/100\n",
            "31/31 [==============================] - 0s 898us/step - loss: 63.7676\n",
            "Epoch 10/100\n",
            "31/31 [==============================] - 0s 698us/step - loss: 63.0651\n",
            "Epoch 11/100\n",
            "31/31 [==============================] - 0s 765us/step - loss: 61.5497\n",
            "Epoch 12/100\n",
            "31/31 [==============================] - 0s 765us/step - loss: 60.8136\n",
            "Epoch 13/100\n",
            "31/31 [==============================] - 0s 731us/step - loss: 60.3334\n",
            "Epoch 14/100\n",
            "31/31 [==============================] - 0s 698us/step - loss: 59.0033\n",
            "Epoch 15/100\n",
            "31/31 [==============================] - 0s 898us/step - loss: 58.1912\n",
            "Epoch 16/100\n",
            "31/31 [==============================] - 0s 898us/step - loss: 57.5959\n",
            "Epoch 17/100\n",
            "31/31 [==============================] - 0s 831us/step - loss: 56.1811\n",
            "Epoch 18/100\n",
            "31/31 [==============================] - 0s 914us/step - loss: 55.7463\n",
            "Epoch 19/100\n",
            "31/31 [==============================] - 0s 964us/step - loss: 55.0049\n",
            "Epoch 20/100\n",
            "31/31 [==============================] - 0s 997us/step - loss: 55.2319\n",
            "Epoch 21/100\n",
            "31/31 [==============================] - 0s 698us/step - loss: 53.5503\n",
            "Epoch 22/100\n",
            "31/31 [==============================] - 0s 665us/step - loss: 53.0851\n",
            "Epoch 23/100\n",
            "31/31 [==============================] - 0s 698us/step - loss: 51.8785\n",
            "Epoch 24/100\n",
            "31/31 [==============================] - 0s 765us/step - loss: 51.2658\n",
            "Epoch 25/100\n",
            "31/31 [==============================] - 0s 698us/step - loss: 50.9653\n",
            "Epoch 26/100\n",
            "31/31 [==============================] - 0s 665us/step - loss: 50.3857\n",
            "Epoch 27/100\n",
            "31/31 [==============================] - 0s 831us/step - loss: 49.7275\n",
            "Epoch 28/100\n",
            "31/31 [==============================] - 0s 765us/step - loss: 48.9728\n",
            "Epoch 29/100\n",
            "31/31 [==============================] - 0s 632us/step - loss: 49.0466\n",
            "Epoch 30/100\n",
            "31/31 [==============================] - 0s 665us/step - loss: 47.9818\n",
            "Epoch 31/100\n",
            "31/31 [==============================] - 0s 898us/step - loss: 48.0867\n",
            "Epoch 32/100\n",
            "31/31 [==============================] - 0s 665us/step - loss: 48.2440\n",
            "Epoch 33/100\n",
            "31/31 [==============================] - 0s 698us/step - loss: 47.8351\n",
            "Epoch 34/100\n",
            "31/31 [==============================] - 0s 698us/step - loss: 50.1713\n",
            "Epoch 35/100\n",
            "31/31 [==============================] - 0s 765us/step - loss: 46.3354\n",
            "Epoch 36/100\n",
            "31/31 [==============================] - 0s 731us/step - loss: 46.4648\n",
            "Epoch 37/100\n",
            "31/31 [==============================] - 0s 698us/step - loss: 47.8561\n",
            "Epoch 38/100\n",
            "31/31 [==============================] - 0s 698us/step - loss: 46.0140\n",
            "Epoch 39/100\n",
            "31/31 [==============================] - 0s 665us/step - loss: 45.5742\n",
            "Epoch 40/100\n",
            "31/31 [==============================] - 0s 665us/step - loss: 46.7375\n",
            "Epoch 41/100\n",
            "31/31 [==============================] - 0s 698us/step - loss: 47.8162\n",
            "Epoch 42/100\n",
            "31/31 [==============================] - 0s 698us/step - loss: 45.2214\n",
            "Epoch 43/100\n",
            "31/31 [==============================] - 0s 665us/step - loss: 45.2367\n",
            "Epoch 44/100\n",
            "31/31 [==============================] - 0s 831us/step - loss: 46.2613\n",
            "Epoch 45/100\n",
            "31/31 [==============================] - 0s 632us/step - loss: 46.0769\n",
            "Epoch 46/100\n",
            "31/31 [==============================] - 0s 665us/step - loss: 44.3227\n",
            "Epoch 47/100\n",
            "31/31 [==============================] - 0s 765us/step - loss: 46.3365\n",
            "Epoch 48/100\n",
            "31/31 [==============================] - 0s 731us/step - loss: 44.2979\n",
            "Epoch 49/100\n",
            "31/31 [==============================] - 0s 831us/step - loss: 44.5747\n",
            "Epoch 50/100\n",
            "31/31 [==============================] - 0s 765us/step - loss: 45.0426\n",
            "Epoch 51/100\n",
            "31/31 [==============================] - 0s 765us/step - loss: 44.2655\n",
            "Epoch 52/100\n",
            "31/31 [==============================] - 0s 698us/step - loss: 44.1908\n",
            "Epoch 53/100\n",
            "31/31 [==============================] - 0s 731us/step - loss: 44.5415\n",
            "Epoch 54/100\n",
            "31/31 [==============================] - 0s 665us/step - loss: 44.5422\n",
            "Epoch 55/100\n",
            "31/31 [==============================] - 0s 665us/step - loss: 43.2522\n",
            "Epoch 56/100\n",
            "31/31 [==============================] - 0s 698us/step - loss: 43.6868\n",
            "Epoch 57/100\n",
            "31/31 [==============================] - 0s 665us/step - loss: 43.7079\n",
            "Epoch 58/100\n",
            "31/31 [==============================] - 0s 864us/step - loss: 43.9643\n",
            "Epoch 59/100\n",
            "31/31 [==============================] - 0s 1ms/step - loss: 43.7963\n",
            "Epoch 60/100\n",
            "31/31 [==============================] - 0s 967us/step - loss: 43.3986\n",
            "Epoch 61/100\n",
            "31/31 [==============================] - 0s 898us/step - loss: 42.7450\n",
            "Epoch 62/100\n",
            "31/31 [==============================] - 0s 731us/step - loss: 42.8867\n",
            "Epoch 63/100\n",
            "31/31 [==============================] - 0s 698us/step - loss: 42.6643\n",
            "Epoch 64/100\n",
            "31/31 [==============================] - 0s 931us/step - loss: 42.4709\n",
            "Epoch 65/100\n",
            "31/31 [==============================] - 0s 1ms/step - loss: 43.1204\n",
            "Epoch 66/100\n",
            "31/31 [==============================] - 0s 1ms/step - loss: 42.9944\n",
            "Epoch 67/100\n",
            "31/31 [==============================] - 0s 1ms/step - loss: 43.3650\n",
            "Epoch 68/100\n",
            "31/31 [==============================] - 0s 864us/step - loss: 42.5484\n",
            "Epoch 69/100\n",
            "31/31 [==============================] - 0s 798us/step - loss: 42.2563\n",
            "Epoch 70/100\n",
            "31/31 [==============================] - 0s 964us/step - loss: 42.0575\n",
            "Epoch 71/100\n",
            "31/31 [==============================] - 0s 1ms/step - loss: 42.4260\n",
            "Epoch 72/100\n",
            "31/31 [==============================] - 0s 731us/step - loss: 41.6383\n",
            "Epoch 73/100\n",
            "31/31 [==============================] - 0s 1ms/step - loss: 43.3407\n",
            "Epoch 74/100\n",
            "31/31 [==============================] - 0s 798us/step - loss: 41.7105\n",
            "Epoch 75/100\n",
            "31/31 [==============================] - 0s 931us/step - loss: 42.1248\n",
            "Epoch 76/100\n",
            "31/31 [==============================] - 0s 898us/step - loss: 44.7634\n",
            "Epoch 77/100\n",
            "31/31 [==============================] - 0s 1ms/step - loss: 41.8693\n",
            "Epoch 78/100\n",
            "31/31 [==============================] - 0s 798us/step - loss: 43.5786\n",
            "Epoch 79/100\n",
            "31/31 [==============================] - 0s 798us/step - loss: 42.4812\n",
            "Epoch 80/100\n",
            "31/31 [==============================] - 0s 731us/step - loss: 41.9070\n",
            "Epoch 81/100\n",
            "31/31 [==============================] - 0s 1ms/step - loss: 43.3946\n",
            "Epoch 82/100\n",
            "31/31 [==============================] - 0s 698us/step - loss: 41.4620\n",
            "Epoch 83/100\n",
            "31/31 [==============================] - 0s 1ms/step - loss: 41.6448\n",
            "Epoch 84/100\n",
            "31/31 [==============================] - 0s 765us/step - loss: 41.9289\n",
            "Epoch 85/100\n",
            "31/31 [==============================] - 0s 765us/step - loss: 41.5121\n",
            "Epoch 86/100\n",
            "31/31 [==============================] - 0s 765us/step - loss: 41.8531\n",
            "Epoch 87/100\n",
            "31/31 [==============================] - 0s 632us/step - loss: 43.7686\n",
            "Epoch 88/100\n",
            "31/31 [==============================] - 0s 731us/step - loss: 40.9580\n",
            "Epoch 89/100\n",
            "31/31 [==============================] - 0s 731us/step - loss: 41.2247\n",
            "Epoch 90/100\n",
            "31/31 [==============================] - 0s 864us/step - loss: 41.4600\n",
            "Epoch 91/100\n",
            "31/31 [==============================] - 0s 2ms/step - loss: 40.8653\n",
            "Epoch 92/100\n",
            "31/31 [==============================] - 0s 1ms/step - loss: 41.4435\n",
            "Epoch 93/100\n",
            "31/31 [==============================] - 0s 2ms/step - loss: 42.3194\n",
            "Epoch 94/100\n",
            "31/31 [==============================] - 0s 997us/step - loss: 41.2733\n",
            "Epoch 95/100\n",
            "31/31 [==============================] - 0s 1ms/step - loss: 41.3438\n",
            "Epoch 96/100\n",
            "31/31 [==============================] - 0s 997us/step - loss: 41.2504\n",
            "Epoch 97/100\n",
            "31/31 [==============================] - 0s 765us/step - loss: 41.9733\n",
            "Epoch 98/100\n",
            "31/31 [==============================] - 0s 798us/step - loss: 42.5041\n",
            "Epoch 99/100\n",
            "31/31 [==============================] - 0s 997us/step - loss: 41.8183\n",
            "Epoch 100/100\n",
            "31/31 [==============================] - 0s 1ms/step - loss: 42.0031\n"
          ]
        }
      ],
      "source": [
        "# Set the training parameters\n",
        "model_tune.compile(loss=\"mse\", optimizer=optimizer)\n",
        "\n",
        "# Train the model\n",
        "history = model_tune.fit(dataset, epochs=100)"
      ]
    },
    {
      "cell_type": "markdown",
      "metadata": {
        "id": "8W-zX3LCrZc2"
      },
      "source": [
        "You can plot the `loss` values by getting it from the [History](https://www.tensorflow.org/api_docs/python/tf/keras/callbacks/History) object returned by the `fit()` method. As you can see, the model is still trending downward after the training."
      ]
    },
    {
      "cell_type": "code",
      "execution_count": 21,
      "metadata": {
        "id": "iXBMO1HM9AHX"
      },
      "outputs": [
        {
          "data": {
            "image/png": "[encoded data removed]",
            "text/plain": [
              "<Figure size 432x288 with 1 Axes>"
            ]
          },
          "metadata": {
            "needs_background": "light"
          },
          "output_type": "display_data"
        }
      ],
      "source": [
        "# Plot the loss\n",
        "loss = history.history['loss']\n",
        "epochs = range(len(loss))\n",
        "plt.plot(epochs, loss, 'b', label='Training Loss')\n",
        "plt.show()"
      ]
    },
    {
      "cell_type": "code",
      "execution_count": 22,
      "metadata": {
        "id": "xakiRU7R7WAo"
      },
      "outputs": [
        {
          "data": {
            "image/png": "[encoded data removed]",
            "text/plain": [
              "<Figure size 432x288 with 1 Axes>"
            ]
          },
          "metadata": {
            "needs_background": "light"
          },
          "output_type": "display_data"
        }
      ],
      "source": [
        "# Plot all but the first 10\n",
        "loss = history.history['loss']\n",
        "epochs = range(10, len(loss))\n",
        "plot_loss = loss[10:]\n",
        "plt.plot(epochs, plot_loss, 'b', label='Training Loss')\n",
        "plt.show()"
      ]
    },
    {
      "cell_type": "markdown",
      "metadata": {
        "id": "XxDbVYFusI3O"
      },
      "source": [
        "You can get the preictions again and overlay it on the validation set."
      ]
    },
    {
      "cell_type": "code",
      "execution_count": 23,
      "metadata": {
        "id": "mIi2fTzPTJxe"
      },
      "outputs": [
        {
          "data": {
            "image/png": "[encoded data removed]",
            "text/plain": [
              "<Figure size 720x432 with 1 Axes>"
            ]
          },
          "metadata": {
            "needs_background": "light"
          },
          "output_type": "display_data"
        }
      ],
      "source": [
        "# Initialize a list\n",
        "forecast = []\n",
        "\n",
        "# Reduce the original series\n",
        "forecast_series = series[split_time - window_size:]\n",
        "\n",
        "# Use the model to predict data points per window size\n",
        "for time in range(len(forecast_series) - window_size):\n",
        "  forecast.append(model_tune.predict(forecast_series[time:time + window_size][np.newaxis]))\n",
        "\n",
        "# Convert to a numpy array and drop single dimensional axes\n",
        "results = np.array(forecast).squeeze()\n",
        "\n",
        "# Plot the results\n",
        "plot_series(time_valid, (x_valid, results))"
      ]
    },
    {
      "cell_type": "markdown",
      "metadata": {
        "id": "KExPe7qJsTxk"
      },
      "source": [
        "Finally, you can compute the metrics and you should arrive at similar figures compared to the baseline. If it is much worse, then the model might have overfitted and you can use techniques you know to avoid it (e.g. adding dropout)."
      ]
    },
    {
      "cell_type": "code",
      "execution_count": 24,
      "metadata": {
        "id": "W-GPjL2wv0yc"
      },
      "outputs": [
        {
          "name": "stdout",
          "output_type": "stream",
          "text": [
            "55.476032\n",
            "5.5452137\n"
          ]
        }
      ],
      "source": [
        "print(tf.keras.metrics.mean_squared_error(x_valid, results).numpy())\n",
        "print(tf.keras.metrics.mean_absolute_error(x_valid, results).numpy())"
      ]
    },
    {
      "cell_type": "markdown",
      "metadata": {
        "id": "U9ViZ1Mcs11C"
      },
      "source": [
        "## Wrap Up\n",
        "\n",
        "This concludes the exercise on using a deep neural network for forecasting. Along the way, you did some hyperparameter tuning, particularly on the learning rate. You will be using this technique as well in the next labs. Next week, you will be using recurrent neural networks to build your forecasting model. See you there and keep it up!"
      ]
    }
  ],
  "metadata": {
    "colab": {
      "collapsed_sections": [],
      "name": "C4_W2_Lab_3_deep_NN.ipynb",
      "private_outputs": true,
      "provenance": []
    },
    "interpreter": {
      "hash": "6144054124f05501854d63cc2c9ec5b317918c2274a32c55faa70c8b56ac8b4e"
    },
    "kernelspec": {
      "display_name": "Python 3.9.6 ('AIML-env')",
      "language": "python",
      "name": "python3"
    },
    "language_info": {
      "codemirror_mode": {
        "name": "ipython",
        "version": 3
      },
      "file_extension": ".py",
      "mimetype": "text/x-python",
      "name": "python",
      "nbconvert_exporter": "python",
      "pygments_lexer": "ipython3",
      "version": "3.9.6"
    }
  },
  "nbformat": 4,
  "nbformat_minor": 0
}
