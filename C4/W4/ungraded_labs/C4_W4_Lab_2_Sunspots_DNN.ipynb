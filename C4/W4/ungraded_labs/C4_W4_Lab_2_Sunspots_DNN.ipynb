{
 "cells": [
  {
   "cell_type": "markdown",
   "metadata": {},
   "source": [
    "<a href=\"https://colab.research.google.com/github/https-deeplearning-ai/tensorflow-1-public/blob/main/C4/W4/ungraded_labs/C4_W4_Lab_2_Sunspots_DNN.ipynb\" target=\"_parent\"><img src=\"https://colab.research.google.com/assets/colab-badge.svg\" alt=\"Open In Colab\"/></a>"
   ]
  },
  {
   "cell_type": "markdown",
   "metadata": {
    "id": "JQsk1BKwZrBh"
   },
   "source": [
    "# Ungraded Lab: Predicting Sunspots with Neural Networks (DNN only)\n",
    "\n",
    "In the remaining labs for this week, you will move away from synthetic time series and start building models for real world data. In particular, you will train on the [Sunspots](https://www.kaggle.com/datasets/robervalt/sunspots) dataset: a monthly record of sunspot numbers from January 1749 to July 2018. You will first build a deep neural network here composed of dense layers. This will act as your baseline so you can compare it to the next lab where you will use a more complex architecture.\n",
    "\n",
    "Let's begin!"
   ]
  },
  {
   "cell_type": "markdown",
   "metadata": {
    "id": "2JHlrB12aeFD"
   },
   "source": [
    "## Imports\n",
    "\n",
    "You will use the same imports as before with the addition of the [csv](https://docs.python.org/3/library/csv.html) module. You will need this to parse the CSV file containing the dataset."
   ]
  },
  {
   "cell_type": "code",
   "execution_count": 1,
   "metadata": {
    "id": "56XEQOGknrAk"
   },
   "outputs": [],
   "source": [
    "import tensorflow as tf\n",
    "import numpy as np\n",
    "import matplotlib.pyplot as plt\n",
    "import csv"
   ]
  },
  {
   "cell_type": "markdown",
   "metadata": {
    "id": "D-mNttnaagBH"
   },
   "source": [
    "## Utilities\n",
    "\n",
    "You will only have the `plot_series()` dataset here because you no longer need the synthetic data generation functions."
   ]
  },
  {
   "cell_type": "code",
   "execution_count": 2,
   "metadata": {
    "id": "sLl52leVp5wU"
   },
   "outputs": [],
   "source": [
    "def plot_series(x, y, format=\"-\", start=0, end=None, \n",
    "                title=None, xlabel=None, ylabel=None, legend=None ):\n",
    "    \"\"\"\n",
    "    Visualizes time series data\n",
    "\n",
    "    Args:\n",
    "      x (array of int) - contains values for the x-axis\n",
    "      y (array of int or tuple of arrays) - contains the values for the y-axis\n",
    "      format (string) - line style when plotting the graph\n",
    "      label (string) - tag for the line\n",
    "      start (int) - first time step to plot\n",
    "      end (int) - last time step to plot\n",
    "      title (string) - title of the plot\n",
    "      xlabel (string) - label for the x-axis\n",
    "      ylabel (string) - label for the y-axis\n",
    "      legend (list of strings) - legend for the plot\n",
    "    \"\"\"\n",
    "\n",
    "    # Setup dimensions of the graph figure\n",
    "    plt.figure(figsize=(10, 6))\n",
    "    \n",
    "    # Check if there are more than two series to plot\n",
    "    if type(y) is tuple:\n",
    "\n",
    "      # Loop over the y elements\n",
    "      for y_curr in y:\n",
    "\n",
    "        # Plot the x and current y values\n",
    "        plt.plot(x[start:end], y_curr[start:end], format)\n",
    "\n",
    "    else:\n",
    "      # Plot the x and y values\n",
    "      plt.plot(x[start:end], y[start:end], format)\n",
    "\n",
    "    # Label the x-axis\n",
    "    plt.xlabel(xlabel)\n",
    "\n",
    "    # Label the y-axis\n",
    "    plt.ylabel(ylabel)\n",
    "\n",
    "    # Set the legend\n",
    "    if legend:\n",
    "      plt.legend(legend)\n",
    "\n",
    "    # Set the title\n",
    "    plt.title(title)\n",
    "\n",
    "    # Overlay a grid on the graph\n",
    "    plt.grid(True)\n",
    "\n",
    "    # Draw the graph on screen\n",
    "    plt.show()"
   ]
  },
  {
   "cell_type": "markdown",
   "metadata": {
    "id": "dFJv45pDauS8"
   },
   "source": [
    "## Download and Preview the Dataset\n",
    "\n",
    "You can now download the dataset and inspect the contents. The link in class is from Laurence's repo but we also hosted it in the link below."
   ]
  },
  {
   "cell_type": "code",
   "execution_count": 3,
   "metadata": {
    "id": "YwI-si5xyUkQ"
   },
   "outputs": [
    {
     "name": "stderr",
     "output_type": "stream",
     "text": [
      "--2022-05-25 21:18:52--  https://storage.googleapis.com/tensorflow-1-public/course4/Sunspots.csv\n",
      "Resolving storage.googleapis.com (storage.googleapis.com)... 2607:f8b0:400f:802::2010, 2607:f8b0:400f:803::2010, 2607:f8b0:400f:804::2010, ...\n",
      "Connecting to storage.googleapis.com (storage.googleapis.com)|2607:f8b0:400f:802::2010|:443... connected.\n",
      "HTTP request sent, awaiting response... 200 OK\n",
      "Length: 70827 (69K) [text/csv]\n",
      "Saving to: 'Sunspots.csv'\n",
      "\n",
      "     0K .......... .......... .......... .......... .......... 72%  358K 0s\n",
      "    50K .......... .........                                  100%  529K=0.2s\n",
      "\n",
      "2022-05-25 21:18:52 (393 KB/s) - 'Sunspots.csv' saved [70827/70827]\n",
      "\n"
     ]
    }
   ],
   "source": [
    "# Download the dataset\n",
    "!wget https://storage.googleapis.com/tensorflow-1-public/course4/Sunspots.csv"
   ]
  },
  {
   "cell_type": "markdown",
   "metadata": {
    "id": "c0fAiMytrwPJ"
   },
   "source": [
    "Running the cell below, you'll see that there are only three columns in the dataset:\n",
    "1. untitled column containing the month number\n",
    "2. Date which has the format `YYYY-MM-DD`\n",
    "3. Mean Total Sunspot Number"
   ]
  },
  {
   "cell_type": "code",
   "execution_count": 4,
   "metadata": {
    "id": "d5W2auXKrhVh"
   },
   "outputs": [
    {
     "name": "stderr",
     "output_type": "stream",
     "text": [
      "'head' is not recognized as an internal or external command,\n",
      "operable program or batch file.\n"
     ]
    }
   ],
   "source": [
    "# Preview the dataset\n",
    "!head Sunspots.csv"
   ]
  },
  {
   "cell_type": "markdown",
   "metadata": {
    "id": "lbs-Y2SDsVaw"
   },
   "source": [
    "For this lab and the next, you will only need the month number and the mean total sunspot number. You will load those into memory and convert it to arrays that represents a time series."
   ]
  },
  {
   "cell_type": "code",
   "execution_count": 5,
   "metadata": {
    "id": "NcG9r1eClbTh"
   },
   "outputs": [
    {
     "data": {
      "image/png": "[encoded data removed]",
      "text/plain": [
       "<Figure size 720x432 with 1 Axes>"
      ]
     },
     "metadata": {
      "needs_background": "light"
     },
     "output_type": "display_data"
    }
   ],
   "source": [
    "# Initialize lists\n",
    "time_step = []\n",
    "sunspots = []\n",
    "\n",
    "# Open CSV file\n",
    "with open('./Sunspots.csv') as csvfile:\n",
    "  \n",
    "  # Initialize reader\n",
    "  reader = csv.reader(csvfile, delimiter=',')\n",
    "  \n",
    "  # Skip the first line\n",
    "  next(reader)\n",
    "  \n",
    "  # Append row and sunspot number to lists\n",
    "  for row in reader:\n",
    "    time_step.append(int(row[0]))\n",
    "    sunspots.append(float(row[2]))\n",
    "\n",
    "# Convert lists to numpy arrays\n",
    "time = np.array(time_step)\n",
    "series = np.array(sunspots)\n",
    "\n",
    "# Preview the data\n",
    "plot_series(time, series, xlabel='Month', ylabel='Monthly Mean Total Sunspot Number')"
   ]
  },
  {
   "cell_type": "markdown",
   "metadata": {
    "id": "EUQE9RRoazC5"
   },
   "source": [
    "## Split the Dataset\n",
    "\n",
    "Next, you will split the dataset into training and validation sets. There are 3235 points in the dataset and you will use the first 3000 for training."
   ]
  },
  {
   "cell_type": "code",
   "execution_count": 6,
   "metadata": {
    "id": "L92YRw_IpCFG"
   },
   "outputs": [],
   "source": [
    "# Define the split time\n",
    "split_time = 3000\n",
    "\n",
    "# Get the train set \n",
    "time_train = time[:split_time]\n",
    "x_train = series[:split_time]\n",
    "\n",
    "# Get the validation set\n",
    "time_valid = time[split_time:]\n",
    "x_valid = series[split_time:]"
   ]
  },
  {
   "cell_type": "markdown",
   "metadata": {
    "id": "RbuIOrb3a093"
   },
   "source": [
    "## Prepare Features and Labels\n",
    "\n",
    "You can then prepare the dataset windows as before. The window size is set to 30 points (equal to 2.5 years) but feel free to change later on if you want to experiment."
   ]
  },
  {
   "cell_type": "code",
   "execution_count": 7,
   "metadata": {
    "id": "lJwUUZscnG38"
   },
   "outputs": [],
   "source": [
    "def windowed_dataset(series, window_size, batch_size, shuffle_buffer):\n",
    "    \"\"\"Generates dataset windows\n",
    "\n",
    "    Args:\n",
    "      series (array of float) - contains the values of the time series\n",
    "      window_size (int) - the number of time steps to include in the feature\n",
    "      batch_size (int) - the batch size\n",
    "      shuffle_buffer(int) - buffer size to use for the shuffle method\n",
    "\n",
    "    Returns:\n",
    "      dataset (TF Dataset) - TF Dataset containing time windows\n",
    "    \"\"\"\n",
    "  \n",
    "    # Generate a TF Dataset from the series values\n",
    "    dataset = tf.data.Dataset.from_tensor_slices(series)\n",
    "    \n",
    "    # Window the data but only take those with the specified size\n",
    "    dataset = dataset.window(window_size + 1, shift=1, drop_remainder=True)\n",
    "    \n",
    "    # Flatten the windows by putting its elements in a single batch\n",
    "    dataset = dataset.flat_map(lambda window: window.batch(window_size + 1))\n",
    "\n",
    "    # Create tuples with features and labels \n",
    "    dataset = dataset.map(lambda window: (window[:-1], window[-1]))\n",
    "\n",
    "    # Shuffle the windows\n",
    "    dataset = dataset.shuffle(shuffle_buffer)\n",
    "    \n",
    "    # Create batches of windows\n",
    "    dataset = dataset.batch(batch_size).prefetch(1)\n",
    "    \n",
    "    return dataset"
   ]
  },
  {
   "cell_type": "code",
   "execution_count": 8,
   "metadata": {
    "id": "9g5zSxZwZQt_"
   },
   "outputs": [],
   "source": [
    "# Parameters\n",
    "window_size = 30\n",
    "batch_size = 32\n",
    "shuffle_buffer_size = 1000\n",
    "\n",
    "# Generate the dataset windows\n",
    "train_set = windowed_dataset(x_train, window_size, batch_size, shuffle_buffer_size)"
   ]
  },
  {
   "cell_type": "markdown",
   "metadata": {
    "id": "_Lhpi42ta5yP"
   },
   "source": [
    "## Build the Model\n",
    "\n",
    "The model will be 3-layer dense network as shown below."
   ]
  },
  {
   "cell_type": "code",
   "execution_count": 9,
   "metadata": {
    "id": "AclfYY3Mn6Ph"
   },
   "outputs": [
    {
     "name": "stdout",
     "output_type": "stream",
     "text": [
      "Model: \"sequential\"\n",
      "_________________________________________________________________\n",
      " Layer (type)                Output Shape              Param #   \n",
      "=================================================================\n",
      " dense (Dense)               (None, 30)                930       \n",
      "                                                                 \n",
      " dense_1 (Dense)             (None, 10)                310       \n",
      "                                                                 \n",
      " dense_2 (Dense)             (None, 1)                 11        \n",
      "                                                                 \n",
      "=================================================================\n",
      "Total params: 1,251\n",
      "Trainable params: 1,251\n",
      "Non-trainable params: 0\n",
      "_________________________________________________________________\n"
     ]
    }
   ],
   "source": [
    "# Build the model\n",
    "model = tf.keras.models.Sequential([\n",
    "    tf.keras.layers.Dense(30, input_shape=[window_size], activation=\"relu\"), \n",
    "    tf.keras.layers.Dense(10, activation=\"relu\"),\n",
    "    tf.keras.layers.Dense(1)\n",
    "])\n",
    "\n",
    "# Print the model summary\n",
    "model.summary()"
   ]
  },
  {
   "cell_type": "markdown",
   "metadata": {
    "id": "uyT14hQOa97V"
   },
   "source": [
    "## Tune the Learning Rate\n",
    "\n",
    "You can pick a learning rate by running the same learning rate scheduler code from previous labs."
   ]
  },
  {
   "cell_type": "code",
   "execution_count": 10,
   "metadata": {
    "id": "GXiqsZQ1y4nD"
   },
   "outputs": [
    {
     "name": "stdout",
     "output_type": "stream",
     "text": [
      "Epoch 1/100\n",
      "93/93 [==============================] - 1s 11ms/step - loss: 29.8735 - lr: 1.0000e-08\n",
      "Epoch 2/100\n",
      "93/93 [==============================] - 0s 2ms/step - loss: 29.8089 - lr: 1.1220e-08\n",
      "Epoch 3/100\n",
      "93/93 [==============================] - 0s 2ms/step - loss: 29.7362 - lr: 1.2589e-08\n",
      "Epoch 4/100\n",
      "93/93 [==============================] - 0s 2ms/step - loss: 29.6585 - lr: 1.4125e-08\n",
      "Epoch 5/100\n",
      "93/93 [==============================] - 0s 2ms/step - loss: 29.5747 - lr: 1.5849e-08\n",
      "Epoch 6/100\n",
      "93/93 [==============================] - 0s 2ms/step - loss: 29.4849 - lr: 1.7783e-08\n",
      "Epoch 7/100\n",
      "93/93 [==============================] - 0s 2ms/step - loss: 29.3901 - lr: 1.9953e-08\n",
      "Epoch 8/100\n",
      "93/93 [==============================] - 0s 2ms/step - loss: 29.2901 - lr: 2.2387e-08\n",
      "Epoch 9/100\n",
      "93/93 [==============================] - 0s 2ms/step - loss: 29.1824 - lr: 2.5119e-08\n",
      "Epoch 10/100\n",
      "93/93 [==============================] - 0s 2ms/step - loss: 29.0668 - lr: 2.8184e-08\n",
      "Epoch 11/100\n",
      "93/93 [==============================] - 0s 2ms/step - loss: 28.9440 - lr: 3.1623e-08\n",
      "Epoch 12/100\n",
      "93/93 [==============================] - 0s 2ms/step - loss: 28.8120 - lr: 3.5481e-08\n",
      "Epoch 13/100\n",
      "93/93 [==============================] - 0s 2ms/step - loss: 28.6710 - lr: 3.9811e-08\n",
      "Epoch 14/100\n",
      "93/93 [==============================] - 0s 2ms/step - loss: 28.5179 - lr: 4.4668e-08\n",
      "Epoch 15/100\n",
      "93/93 [==============================] - 0s 2ms/step - loss: 28.3506 - lr: 5.0119e-08\n",
      "Epoch 16/100\n",
      "93/93 [==============================] - 0s 2ms/step - loss: 28.1651 - lr: 5.6234e-08\n",
      "Epoch 17/100\n",
      "93/93 [==============================] - 0s 2ms/step - loss: 27.9661 - lr: 6.3096e-08\n",
      "Epoch 18/100\n",
      "93/93 [==============================] - 0s 2ms/step - loss: 27.7532 - lr: 7.0795e-08\n",
      "Epoch 19/100\n",
      "93/93 [==============================] - 0s 2ms/step - loss: 27.5288 - lr: 7.9433e-08\n",
      "Epoch 20/100\n",
      "93/93 [==============================] - 0s 2ms/step - loss: 27.2877 - lr: 8.9125e-08\n",
      "Epoch 21/100\n",
      "93/93 [==============================] - 0s 2ms/step - loss: 27.0291 - lr: 1.0000e-07\n",
      "Epoch 22/100\n",
      "93/93 [==============================] - 0s 3ms/step - loss: 26.7560 - lr: 1.1220e-07\n",
      "Epoch 23/100\n",
      "93/93 [==============================] - 0s 3ms/step - loss: 26.4830 - lr: 1.2589e-07\n",
      "Epoch 24/100\n",
      "93/93 [==============================] - 0s 3ms/step - loss: 26.2080 - lr: 1.4125e-07\n",
      "Epoch 25/100\n",
      "93/93 [==============================] - 0s 3ms/step - loss: 25.9292 - lr: 1.5849e-07\n",
      "Epoch 26/100\n",
      "93/93 [==============================] - 0s 2ms/step - loss: 25.6441 - lr: 1.7783e-07\n",
      "Epoch 27/100\n",
      "93/93 [==============================] - 0s 2ms/step - loss: 25.3634 - lr: 1.9953e-07\n",
      "Epoch 28/100\n",
      "93/93 [==============================] - 0s 2ms/step - loss: 25.0809 - lr: 2.2387e-07\n",
      "Epoch 29/100\n",
      "93/93 [==============================] - 0s 2ms/step - loss: 24.7943 - lr: 2.5119e-07\n",
      "Epoch 30/100\n",
      "93/93 [==============================] - 0s 2ms/step - loss: 24.5102 - lr: 2.8184e-07\n",
      "Epoch 31/100\n",
      "93/93 [==============================] - 0s 2ms/step - loss: 24.2488 - lr: 3.1623e-07\n",
      "Epoch 32/100\n",
      "93/93 [==============================] - 0s 3ms/step - loss: 24.0135 - lr: 3.5481e-07\n",
      "Epoch 33/100\n",
      "93/93 [==============================] - 0s 3ms/step - loss: 23.8281 - lr: 3.9811e-07\n",
      "Epoch 34/100\n",
      "93/93 [==============================] - 0s 4ms/step - loss: 23.6290 - lr: 4.4668e-07\n",
      "Epoch 35/100\n",
      "93/93 [==============================] - 0s 3ms/step - loss: 23.4537 - lr: 5.0119e-07\n",
      "Epoch 36/100\n",
      "93/93 [==============================] - 1s 4ms/step - loss: 23.2873 - lr: 5.6234e-07\n",
      "Epoch 37/100\n",
      "93/93 [==============================] - 0s 3ms/step - loss: 23.1360 - lr: 6.3096e-07\n",
      "Epoch 38/100\n",
      "93/93 [==============================] - 0s 4ms/step - loss: 22.9738 - lr: 7.0795e-07\n",
      "Epoch 39/100\n",
      "93/93 [==============================] - 0s 4ms/step - loss: 22.8046 - lr: 7.9433e-07\n",
      "Epoch 40/100\n",
      "93/93 [==============================] - 0s 3ms/step - loss: 22.6522 - lr: 8.9125e-07\n",
      "Epoch 41/100\n",
      "93/93 [==============================] - 0s 3ms/step - loss: 22.4903 - lr: 1.0000e-06\n",
      "Epoch 42/100\n",
      "93/93 [==============================] - 0s 3ms/step - loss: 22.3086 - lr: 1.1220e-06\n",
      "Epoch 43/100\n",
      "93/93 [==============================] - 0s 4ms/step - loss: 22.1102 - lr: 1.2589e-06\n",
      "Epoch 44/100\n",
      "93/93 [==============================] - 0s 3ms/step - loss: 21.9236 - lr: 1.4125e-06\n",
      "Epoch 45/100\n",
      "93/93 [==============================] - 0s 3ms/step - loss: 21.7129 - lr: 1.5849e-06\n",
      "Epoch 46/100\n",
      "93/93 [==============================] - 0s 3ms/step - loss: 21.4852 - lr: 1.7783e-06\n",
      "Epoch 47/100\n",
      "93/93 [==============================] - 0s 4ms/step - loss: 21.2697 - lr: 1.9953e-06\n",
      "Epoch 48/100\n",
      "93/93 [==============================] - 0s 3ms/step - loss: 21.0398 - lr: 2.2387e-06\n",
      "Epoch 49/100\n",
      "93/93 [==============================] - 0s 3ms/step - loss: 20.8406 - lr: 2.5119e-06\n",
      "Epoch 50/100\n",
      "93/93 [==============================] - 0s 3ms/step - loss: 20.5639 - lr: 2.8184e-06\n",
      "Epoch 51/100\n",
      "93/93 [==============================] - 0s 3ms/step - loss: 20.3817 - lr: 3.1623e-06\n",
      "Epoch 52/100\n",
      "93/93 [==============================] - 0s 4ms/step - loss: 20.1619 - lr: 3.5481e-06\n",
      "Epoch 53/100\n",
      "93/93 [==============================] - 0s 4ms/step - loss: 19.9743 - lr: 3.9811e-06\n",
      "Epoch 54/100\n",
      "93/93 [==============================] - 0s 3ms/step - loss: 19.7424 - lr: 4.4668e-06\n",
      "Epoch 55/100\n",
      "93/93 [==============================] - 0s 3ms/step - loss: 19.6785 - lr: 5.0119e-06\n",
      "Epoch 56/100\n",
      "93/93 [==============================] - 0s 4ms/step - loss: 19.3644 - lr: 5.6234e-06\n",
      "Epoch 57/100\n",
      "93/93 [==============================] - 0s 3ms/step - loss: 19.2269 - lr: 6.3096e-06\n",
      "Epoch 58/100\n",
      "93/93 [==============================] - 0s 3ms/step - loss: 19.0527 - lr: 7.0795e-06\n",
      "Epoch 59/100\n",
      "93/93 [==============================] - 0s 3ms/step - loss: 18.8414 - lr: 7.9433e-06\n",
      "Epoch 60/100\n",
      "93/93 [==============================] - 0s 4ms/step - loss: 18.7936 - lr: 8.9125e-06\n",
      "Epoch 61/100\n",
      "93/93 [==============================] - 0s 3ms/step - loss: 18.5797 - lr: 1.0000e-05\n",
      "Epoch 62/100\n",
      "93/93 [==============================] - 0s 3ms/step - loss: 18.3621 - lr: 1.1220e-05\n",
      "Epoch 63/100\n",
      "93/93 [==============================] - 0s 3ms/step - loss: 18.3549 - lr: 1.2589e-05\n",
      "Epoch 64/100\n",
      "93/93 [==============================] - 1s 4ms/step - loss: 18.2560 - lr: 1.4125e-05\n",
      "Epoch 65/100\n",
      "93/93 [==============================] - 1s 4ms/step - loss: 18.5344 - lr: 1.5849e-05\n",
      "Epoch 66/100\n",
      "93/93 [==============================] - 0s 3ms/step - loss: 17.9058 - lr: 1.7783e-05\n",
      "Epoch 67/100\n",
      "93/93 [==============================] - 0s 3ms/step - loss: 17.9716 - lr: 1.9953e-05\n",
      "Epoch 68/100\n",
      "93/93 [==============================] - 1s 4ms/step - loss: 17.7235 - lr: 2.2387e-05\n",
      "Epoch 69/100\n",
      "93/93 [==============================] - 0s 4ms/step - loss: 18.0699 - lr: 2.5119e-05\n",
      "Epoch 70/100\n",
      "93/93 [==============================] - 0s 3ms/step - loss: 18.4428 - lr: 2.8184e-05\n",
      "Epoch 71/100\n",
      "93/93 [==============================] - 0s 3ms/step - loss: 18.3359 - lr: 3.1623e-05\n",
      "Epoch 72/100\n",
      "93/93 [==============================] - 0s 3ms/step - loss: 17.6480 - lr: 3.5481e-05\n",
      "Epoch 73/100\n",
      "93/93 [==============================] - 0s 4ms/step - loss: 17.9929 - lr: 3.9811e-05\n",
      "Epoch 74/100\n",
      "93/93 [==============================] - 0s 3ms/step - loss: 17.4788 - lr: 4.4668e-05\n",
      "Epoch 75/100\n",
      "93/93 [==============================] - 0s 3ms/step - loss: 18.0119 - lr: 5.0119e-05\n",
      "Epoch 76/100\n",
      "93/93 [==============================] - 0s 3ms/step - loss: 18.0771 - lr: 5.6234e-05\n",
      "Epoch 77/100\n",
      "93/93 [==============================] - 1s 4ms/step - loss: 18.5361 - lr: 6.3096e-05\n",
      "Epoch 78/100\n",
      "93/93 [==============================] - 1s 4ms/step - loss: 17.5901 - lr: 7.0795e-05\n",
      "Epoch 79/100\n",
      "93/93 [==============================] - 0s 3ms/step - loss: 18.0904 - lr: 7.9433e-05\n",
      "Epoch 80/100\n",
      "93/93 [==============================] - 1s 5ms/step - loss: 18.4253 - lr: 8.9125e-05\n",
      "Epoch 81/100\n",
      "93/93 [==============================] - 1s 4ms/step - loss: 18.3527 - lr: 1.0000e-04\n",
      "Epoch 82/100\n",
      "93/93 [==============================] - 0s 3ms/step - loss: 17.9506 - lr: 1.1220e-04\n",
      "Epoch 83/100\n",
      "93/93 [==============================] - 0s 3ms/step - loss: 17.4126 - lr: 1.2589e-04\n",
      "Epoch 84/100\n",
      "93/93 [==============================] - 1s 4ms/step - loss: 18.8031 - lr: 1.4125e-04\n",
      "Epoch 85/100\n",
      "93/93 [==============================] - 1s 3ms/step - loss: 18.3850 - lr: 1.5849e-04\n",
      "Epoch 86/100\n",
      "93/93 [==============================] - 0s 3ms/step - loss: 18.2333 - lr: 1.7783e-04\n",
      "Epoch 87/100\n",
      "93/93 [==============================] - 0s 3ms/step - loss: 18.3902 - lr: 1.9953e-04\n",
      "Epoch 88/100\n",
      "93/93 [==============================] - 1s 5ms/step - loss: 19.4583 - lr: 2.2387e-04\n",
      "Epoch 89/100\n",
      "93/93 [==============================] - 1s 4ms/step - loss: 18.7235 - lr: 2.5119e-04\n",
      "Epoch 90/100\n",
      "93/93 [==============================] - 1s 4ms/step - loss: 18.0284 - lr: 2.8184e-04\n",
      "Epoch 91/100\n",
      "93/93 [==============================] - 0s 4ms/step - loss: 19.2327 - lr: 3.1623e-04\n",
      "Epoch 92/100\n",
      "93/93 [==============================] - 1s 4ms/step - loss: 20.6926 - lr: 3.5481e-04\n",
      "Epoch 93/100\n",
      "93/93 [==============================] - 0s 4ms/step - loss: 25.4748 - lr: 3.9811e-04\n",
      "Epoch 94/100\n",
      "93/93 [==============================] - 0s 4ms/step - loss: 21.8323 - lr: 4.4668e-04\n",
      "Epoch 95/100\n",
      "93/93 [==============================] - 0s 3ms/step - loss: 24.6045 - lr: 5.0119e-04\n",
      "Epoch 96/100\n",
      "93/93 [==============================] - 1s 5ms/step - loss: 22.8426 - lr: 5.6234e-04\n",
      "Epoch 97/100\n",
      "93/93 [==============================] - 1s 5ms/step - loss: 21.8402 - lr: 6.3096e-04\n",
      "Epoch 98/100\n",
      "93/93 [==============================] - 0s 3ms/step - loss: 23.0415 - lr: 7.0795e-04\n",
      "Epoch 99/100\n",
      "93/93 [==============================] - 0s 4ms/step - loss: 32.2998 - lr: 7.9433e-04\n",
      "Epoch 100/100\n",
      "93/93 [==============================] - 1s 4ms/step - loss: 30.3063 - lr: 8.9125e-04\n"
     ]
    }
   ],
   "source": [
    "# Set the learning rate scheduler\n",
    "lr_schedule = tf.keras.callbacks.LearningRateScheduler(\n",
    "    lambda epoch: 1e-8 * 10**(epoch / 20))\n",
    "\n",
    "# Initialize the optimizer\n",
    "optimizer = tf.keras.optimizers.SGD(momentum=0.9)\n",
    "\n",
    "# Set the training parameters\n",
    "model.compile(loss=tf.keras.losses.Huber(), optimizer=optimizer)\n",
    "\n",
    "# Train the model\n",
    "history = model.fit(train_set, epochs=100, callbacks=[lr_schedule])"
   ]
  },
  {
   "cell_type": "code",
   "execution_count": 11,
   "metadata": {
    "id": "xJFAB1NTzGJV"
   },
   "outputs": [
    {
     "data": {
      "text/plain": [
       "(1e-08, 0.001, 0.0, 100.0)"
      ]
     },
     "execution_count": 11,
     "metadata": {},
     "output_type": "execute_result"
    },
    {
     "data": {
      "image/png": "[encoded data removed]",
      "text/plain": [
       "<Figure size 720x432 with 1 Axes>"
      ]
     },
     "metadata": {
      "needs_background": "light"
     },
     "output_type": "display_data"
    }
   ],
   "source": [
    "# Define the learning rate array\n",
    "lrs = 1e-8 * (10 ** (np.arange(100) / 20))\n",
    "\n",
    "# Set the figure size\n",
    "plt.figure(figsize=(10, 6))\n",
    "\n",
    "# Set the grid\n",
    "plt.grid(True)\n",
    "\n",
    "# Plot the loss in log scale\n",
    "plt.semilogx(lrs, history.history[\"loss\"])\n",
    "\n",
    "# Increase the tickmarks size\n",
    "plt.tick_params('both', length=10, width=1, which='both')\n",
    "\n",
    "# Set the plot boundaries\n",
    "plt.axis([1e-8, 1e-3, 0, 100])"
   ]
  },
  {
   "cell_type": "markdown",
   "metadata": {
    "id": "oY4mnUpNbFdc"
   },
   "source": [
    "## Train the Model\n",
    "\n",
    "Once you've picked a learning rate, you can rebuild the model and start training."
   ]
  },
  {
   "cell_type": "code",
   "execution_count": 12,
   "metadata": {
    "id": "Ngna3zR4znJd"
   },
   "outputs": [],
   "source": [
    "# Reset states generated by Keras\n",
    "tf.keras.backend.clear_session()\n",
    "\n",
    "# Build the Model\n",
    "model = tf.keras.models.Sequential([\n",
    "    tf.keras.layers.Dense(30, input_shape=[window_size], activation=\"relu\"), \n",
    "    tf.keras.layers.Dense(10, activation=\"relu\"),\n",
    "    tf.keras.layers.Dense(1)\n",
    "])"
   ]
  },
  {
   "cell_type": "code",
   "execution_count": 13,
   "metadata": {
    "id": "7FKXvEYxzuoc"
   },
   "outputs": [
    {
     "name": "stdout",
     "output_type": "stream",
     "text": [
      "Epoch 1/100\n",
      "93/93 [==============================] - 2s 4ms/step - loss: 32.9781 - mae: 33.4731\n",
      "Epoch 2/100\n",
      "93/93 [==============================] - 0s 3ms/step - loss: 20.4895 - mae: 20.9816\n",
      "Epoch 3/100\n",
      "93/93 [==============================] - 0s 4ms/step - loss: 19.3006 - mae: 19.7939\n",
      "Epoch 4/100\n",
      "93/93 [==============================] - 0s 3ms/step - loss: 18.7933 - mae: 19.2874\n",
      "Epoch 5/100\n",
      "93/93 [==============================] - 0s 3ms/step - loss: 18.6269 - mae: 19.1202\n",
      "Epoch 6/100\n",
      "93/93 [==============================] - 0s 4ms/step - loss: 18.4124 - mae: 18.9051\n",
      "Epoch 7/100\n",
      "93/93 [==============================] - 0s 3ms/step - loss: 18.3538 - mae: 18.8465\n",
      "Epoch 8/100\n",
      "93/93 [==============================] - 0s 3ms/step - loss: 18.3164 - mae: 18.8091\n",
      "Epoch 9/100\n",
      "93/93 [==============================] - 1s 4ms/step - loss: 18.0004 - mae: 18.4939\n",
      "Epoch 10/100\n",
      "93/93 [==============================] - 1s 4ms/step - loss: 17.9370 - mae: 18.4301\n",
      "Epoch 11/100\n",
      "93/93 [==============================] - 0s 3ms/step - loss: 17.7011 - mae: 18.1946\n",
      "Epoch 12/100\n",
      "93/93 [==============================] - 0s 3ms/step - loss: 17.7768 - mae: 18.2696\n",
      "Epoch 13/100\n",
      "93/93 [==============================] - 1s 4ms/step - loss: 17.8021 - mae: 18.2958\n",
      "Epoch 14/100\n",
      "93/93 [==============================] - 1s 3ms/step - loss: 17.6244 - mae: 18.1155\n",
      "Epoch 15/100\n",
      "93/93 [==============================] - 0s 2ms/step - loss: 17.6596 - mae: 18.1533\n",
      "Epoch 16/100\n",
      "93/93 [==============================] - 0s 2ms/step - loss: 17.4967 - mae: 17.9901\n",
      "Epoch 17/100\n",
      "93/93 [==============================] - 0s 2ms/step - loss: 17.7985 - mae: 18.2915\n",
      "Epoch 18/100\n",
      "93/93 [==============================] - 0s 3ms/step - loss: 17.5494 - mae: 18.0417\n",
      "Epoch 19/100\n",
      "93/93 [==============================] - 0s 3ms/step - loss: 17.3744 - mae: 17.8680\n",
      "Epoch 20/100\n",
      "93/93 [==============================] - 0s 2ms/step - loss: 17.2211 - mae: 17.7124\n",
      "Epoch 21/100\n",
      "93/93 [==============================] - 0s 2ms/step - loss: 17.2070 - mae: 17.6992\n",
      "Epoch 22/100\n",
      "93/93 [==============================] - 0s 3ms/step - loss: 17.3610 - mae: 17.8531\n",
      "Epoch 23/100\n",
      "93/93 [==============================] - 0s 2ms/step - loss: 17.2580 - mae: 17.7509\n",
      "Epoch 24/100\n",
      "93/93 [==============================] - 0s 3ms/step - loss: 17.1803 - mae: 17.6730\n",
      "Epoch 25/100\n",
      "93/93 [==============================] - 0s 3ms/step - loss: 17.1319 - mae: 17.6241\n",
      "Epoch 26/100\n",
      "93/93 [==============================] - 0s 3ms/step - loss: 17.3962 - mae: 17.8869\n",
      "Epoch 27/100\n",
      "93/93 [==============================] - 0s 3ms/step - loss: 17.2219 - mae: 17.7145\n",
      "Epoch 28/100\n",
      "93/93 [==============================] - 0s 3ms/step - loss: 17.0605 - mae: 17.5533\n",
      "Epoch 29/100\n",
      "93/93 [==============================] - 0s 3ms/step - loss: 17.0810 - mae: 17.5721\n",
      "Epoch 30/100\n",
      "93/93 [==============================] - 0s 3ms/step - loss: 17.0043 - mae: 17.4976\n",
      "Epoch 31/100\n",
      "93/93 [==============================] - 0s 2ms/step - loss: 17.0392 - mae: 17.5311\n",
      "Epoch 32/100\n",
      "93/93 [==============================] - 0s 3ms/step - loss: 17.0506 - mae: 17.5422\n",
      "Epoch 33/100\n",
      "93/93 [==============================] - 0s 3ms/step - loss: 16.9399 - mae: 17.4313\n",
      "Epoch 34/100\n",
      "93/93 [==============================] - 0s 2ms/step - loss: 16.9149 - mae: 17.4065\n",
      "Epoch 35/100\n",
      "93/93 [==============================] - 0s 3ms/step - loss: 16.8819 - mae: 17.3740\n",
      "Epoch 36/100\n",
      "93/93 [==============================] - 0s 2ms/step - loss: 17.1907 - mae: 17.6827\n",
      "Epoch 37/100\n",
      "93/93 [==============================] - 1s 3ms/step - loss: 17.0646 - mae: 17.5560\n",
      "Epoch 38/100\n",
      "93/93 [==============================] - 0s 3ms/step - loss: 17.0413 - mae: 17.5321\n",
      "Epoch 39/100\n",
      "93/93 [==============================] - 0s 3ms/step - loss: 17.1765 - mae: 17.6680\n",
      "Epoch 40/100\n",
      "93/93 [==============================] - 0s 3ms/step - loss: 16.8164 - mae: 17.3102\n",
      "Epoch 41/100\n",
      "93/93 [==============================] - 0s 4ms/step - loss: 17.0628 - mae: 17.5556\n",
      "Epoch 42/100\n",
      "93/93 [==============================] - 0s 3ms/step - loss: 16.8064 - mae: 17.2972\n",
      "Epoch 43/100\n",
      "93/93 [==============================] - 0s 3ms/step - loss: 16.7579 - mae: 17.2488\n",
      "Epoch 44/100\n",
      "93/93 [==============================] - 0s 3ms/step - loss: 17.1076 - mae: 17.5983\n",
      "Epoch 45/100\n",
      "93/93 [==============================] - 0s 3ms/step - loss: 16.7920 - mae: 17.2835\n",
      "Epoch 46/100\n",
      "93/93 [==============================] - 0s 3ms/step - loss: 16.7739 - mae: 17.2652\n",
      "Epoch 47/100\n",
      "93/93 [==============================] - 0s 2ms/step - loss: 16.6823 - mae: 17.1741\n",
      "Epoch 48/100\n",
      "93/93 [==============================] - 0s 3ms/step - loss: 16.7988 - mae: 17.2902\n",
      "Epoch 49/100\n",
      "93/93 [==============================] - 0s 2ms/step - loss: 16.7472 - mae: 17.2393\n",
      "Epoch 50/100\n",
      "93/93 [==============================] - 0s 2ms/step - loss: 16.7739 - mae: 17.2656\n",
      "Epoch 51/100\n",
      "93/93 [==============================] - 0s 3ms/step - loss: 17.0055 - mae: 17.4976\n",
      "Epoch 52/100\n",
      "93/93 [==============================] - 1s 4ms/step - loss: 16.7384 - mae: 17.2293\n",
      "Epoch 53/100\n",
      "93/93 [==============================] - 0s 3ms/step - loss: 16.7055 - mae: 17.1968\n",
      "Epoch 54/100\n",
      "93/93 [==============================] - 0s 4ms/step - loss: 16.9356 - mae: 17.4262\n",
      "Epoch 55/100\n",
      "93/93 [==============================] - 0s 4ms/step - loss: 16.6830 - mae: 17.1736\n",
      "Epoch 56/100\n",
      "93/93 [==============================] - 1s 4ms/step - loss: 16.7878 - mae: 17.2797\n",
      "Epoch 57/100\n",
      "93/93 [==============================] - 1s 4ms/step - loss: 16.9733 - mae: 17.4639\n",
      "Epoch 58/100\n",
      "93/93 [==============================] - 1s 4ms/step - loss: 16.7215 - mae: 17.2130\n",
      "Epoch 59/100\n",
      "93/93 [==============================] - 1s 4ms/step - loss: 16.6386 - mae: 17.1310\n",
      "Epoch 60/100\n",
      "93/93 [==============================] - 0s 3ms/step - loss: 16.9873 - mae: 17.4790\n",
      "Epoch 61/100\n",
      "93/93 [==============================] - 1s 5ms/step - loss: 16.7015 - mae: 17.1933\n",
      "Epoch 62/100\n",
      "93/93 [==============================] - 1s 5ms/step - loss: 16.6583 - mae: 17.1494\n",
      "Epoch 63/100\n",
      "93/93 [==============================] - 1s 4ms/step - loss: 16.7111 - mae: 17.2033\n",
      "Epoch 64/100\n",
      "93/93 [==============================] - 0s 3ms/step - loss: 16.6759 - mae: 17.1655\n",
      "Epoch 65/100\n",
      "93/93 [==============================] - 1s 4ms/step - loss: 16.7596 - mae: 17.2515\n",
      "Epoch 66/100\n",
      "93/93 [==============================] - 1s 4ms/step - loss: 16.7632 - mae: 17.2551\n",
      "Epoch 67/100\n",
      "93/93 [==============================] - 1s 4ms/step - loss: 16.6744 - mae: 17.1666\n",
      "Epoch 68/100\n",
      "93/93 [==============================] - 1s 4ms/step - loss: 16.5501 - mae: 17.0417\n",
      "Epoch 69/100\n",
      "93/93 [==============================] - 1s 4ms/step - loss: 16.7930 - mae: 17.2841\n",
      "Epoch 70/100\n",
      "93/93 [==============================] - 1s 4ms/step - loss: 16.6359 - mae: 17.1282\n",
      "Epoch 71/100\n",
      "93/93 [==============================] - 0s 3ms/step - loss: 16.6437 - mae: 17.1340\n",
      "Epoch 72/100\n",
      "93/93 [==============================] - 0s 4ms/step - loss: 16.9258 - mae: 17.4156\n",
      "Epoch 73/100\n",
      "93/93 [==============================] - 1s 4ms/step - loss: 16.6170 - mae: 17.1085\n",
      "Epoch 74/100\n",
      "93/93 [==============================] - 1s 5ms/step - loss: 16.8460 - mae: 17.3367\n",
      "Epoch 75/100\n",
      "93/93 [==============================] - 0s 3ms/step - loss: 16.6507 - mae: 17.1432\n",
      "Epoch 76/100\n",
      "93/93 [==============================] - 1s 4ms/step - loss: 16.4849 - mae: 16.9763\n",
      "Epoch 77/100\n",
      "93/93 [==============================] - 0s 4ms/step - loss: 16.6642 - mae: 17.1552\n",
      "Epoch 78/100\n",
      "93/93 [==============================] - 0s 4ms/step - loss: 16.6154 - mae: 17.1064\n",
      "Epoch 79/100\n",
      "93/93 [==============================] - 1s 4ms/step - loss: 16.5564 - mae: 17.0465\n",
      "Epoch 80/100\n",
      "93/93 [==============================] - 1s 4ms/step - loss: 16.5392 - mae: 17.0291\n",
      "Epoch 81/100\n",
      "93/93 [==============================] - 1s 4ms/step - loss: 16.6272 - mae: 17.1189\n",
      "Epoch 82/100\n",
      "93/93 [==============================] - 0s 3ms/step - loss: 16.8205 - mae: 17.3113\n",
      "Epoch 83/100\n",
      "93/93 [==============================] - 1s 4ms/step - loss: 16.7692 - mae: 17.2583\n",
      "Epoch 84/100\n",
      "93/93 [==============================] - 0s 3ms/step - loss: 16.6099 - mae: 17.1005\n",
      "Epoch 85/100\n",
      "93/93 [==============================] - 1s 5ms/step - loss: 16.8687 - mae: 17.3579\n",
      "Epoch 86/100\n",
      "93/93 [==============================] - 1s 5ms/step - loss: 16.6993 - mae: 17.1903\n",
      "Epoch 87/100\n",
      "93/93 [==============================] - 1s 4ms/step - loss: 16.5194 - mae: 17.0132\n",
      "Epoch 88/100\n",
      "93/93 [==============================] - 0s 3ms/step - loss: 16.6560 - mae: 17.1465\n",
      "Epoch 89/100\n",
      "93/93 [==============================] - 1s 4ms/step - loss: 16.4822 - mae: 16.9735\n",
      "Epoch 90/100\n",
      "93/93 [==============================] - 1s 4ms/step - loss: 16.5396 - mae: 17.0287\n",
      "Epoch 91/100\n",
      "93/93 [==============================] - 1s 4ms/step - loss: 16.5321 - mae: 17.0247\n",
      "Epoch 92/100\n",
      "93/93 [==============================] - 1s 4ms/step - loss: 16.8230 - mae: 17.3127\n",
      "Epoch 93/100\n",
      "93/93 [==============================] - 1s 4ms/step - loss: 16.5109 - mae: 17.0004\n",
      "Epoch 94/100\n",
      "93/93 [==============================] - 1s 5ms/step - loss: 16.5275 - mae: 17.0175\n",
      "Epoch 95/100\n",
      "93/93 [==============================] - 1s 4ms/step - loss: 16.5448 - mae: 17.0352\n",
      "Epoch 96/100\n",
      "93/93 [==============================] - 1s 5ms/step - loss: 16.5892 - mae: 17.0793\n",
      "Epoch 97/100\n",
      "93/93 [==============================] - 1s 5ms/step - loss: 16.5511 - mae: 17.0423\n",
      "Epoch 98/100\n",
      "93/93 [==============================] - 1s 4ms/step - loss: 16.6795 - mae: 17.1706\n",
      "Epoch 99/100\n",
      "93/93 [==============================] - 0s 4ms/step - loss: 16.4773 - mae: 16.9680\n",
      "Epoch 100/100\n",
      "93/93 [==============================] - 0s 3ms/step - loss: 16.5051 - mae: 16.9954\n"
     ]
    }
   ],
   "source": [
    "# Set the learning rate\n",
    "learning_rate = 2e-5\n",
    "\n",
    "# Set the optimizer \n",
    "optimizer = tf.keras.optimizers.SGD(learning_rate=learning_rate, momentum=0.9)\n",
    "\n",
    "# Set the training parameters\n",
    "model.compile(loss=tf.keras.losses.Huber(),\n",
    "              optimizer=optimizer,\n",
    "              metrics=[\"mae\"])\n",
    "\n",
    "# Train the model\n",
    "history = model.fit(train_set,epochs=100)"
   ]
  },
  {
   "cell_type": "markdown",
   "metadata": {
    "id": "b1iV2t8ibIka"
   },
   "source": [
    "## Model Prediction\n",
    "\n",
    "Now see if the model generates good results. If you used the default parameters of this notebook, you should see the predictions follow the shape of the ground truth with an MAE of around 15. "
   ]
  },
  {
   "cell_type": "code",
   "execution_count": 14,
   "metadata": {
    "id": "djn06Tri2B6_"
   },
   "outputs": [],
   "source": [
    "def model_forecast(model, series, window_size, batch_size):\n",
    "    \"\"\"Uses an input model to generate predictions on data windows\n",
    "\n",
    "    Args:\n",
    "      model (TF Keras Model) - model that accepts data windows\n",
    "      series (array of float) - contains the values of the time series\n",
    "      window_size (int) - the number of time steps to include in the window\n",
    "      batch_size (int) - the batch size\n",
    "\n",
    "    Returns:\n",
    "      forecast (numpy array) - array containing predictions\n",
    "    \"\"\"\n",
    "\n",
    "    # Generate a TF Dataset from the series values\n",
    "    dataset = tf.data.Dataset.from_tensor_slices(series)\n",
    "\n",
    "    # Window the data but only take those with the specified size\n",
    "    dataset = dataset.window(window_size, shift=1, drop_remainder=True)\n",
    "\n",
    "    # Flatten the windows by putting its elements in a single batch\n",
    "    dataset = dataset.flat_map(lambda w: w.batch(window_size))\n",
    "    \n",
    "    # Create batches of windows\n",
    "    dataset = dataset.batch(batch_size).prefetch(1)\n",
    "    \n",
    "    # Get predictions on the entire dataset\n",
    "    forecast = model.predict(dataset)\n",
    "    \n",
    "    return forecast"
   ]
  },
  {
   "cell_type": "code",
   "execution_count": 15,
   "metadata": {
    "id": "GaC6NNMRp0lb"
   },
   "outputs": [
    {
     "data": {
      "image/png": "[encoded data removed]",
      "text/plain": [
       "<Figure size 720x432 with 1 Axes>"
      ]
     },
     "metadata": {
      "needs_background": "light"
     },
     "output_type": "display_data"
    }
   ],
   "source": [
    "# Reduce the original series\n",
    "forecast_series = series[split_time-window_size:-1]\n",
    "\n",
    "# Use helper function to generate predictions\n",
    "forecast = model_forecast(model, forecast_series, window_size, batch_size)\n",
    "\n",
    "# Drop single dimensional axis\n",
    "results = forecast.squeeze()\n",
    "\n",
    "# Plot the results\n",
    "plot_series(time_valid, (x_valid, results))"
   ]
  },
  {
   "cell_type": "code",
   "execution_count": 16,
   "metadata": {
    "id": "13XrorC5wQoE"
   },
   "outputs": [
    {
     "name": "stdout",
     "output_type": "stream",
     "text": [
      "14.972353\n"
     ]
    }
   ],
   "source": [
    "# Compute the MAE\n",
    "print(tf.keras.metrics.mean_absolute_error(x_valid, results).numpy())"
   ]
  },
  {
   "cell_type": "markdown",
   "metadata": {
    "id": "YqMGN9S5veN2"
   },
   "source": [
    "## Wrap Up\n",
    "\n",
    "In this lab, you built a relatively simple DNN to forecast sunspot numbers for a given month. We encourage you to tweak the parameters or train longer and see the best results you can get. In the next lab, you will build a more complex model and you evaluate if the added complexity translates to better or worse results."
   ]
  }
 ],
 "metadata": {
  "colab": {
   "collapsed_sections": [],
   "name": "C4_W4_Lab_2_Sunspots_DNN.ipynb",
   "private_outputs": true,
   "provenance": [
    {
     "file_id": "https://github.com/https-deeplearning-ai/tensorflow-1-public/blob/adding_C4/C4/W4/ungraded_labs/C4_W4_Lab_3_DNN_only.ipynb",
     "timestamp": 1641292790865
    }
   ]
  },
  "interpreter": {
   "hash": "6144054124f05501854d63cc2c9ec5b317918c2274a32c55faa70c8b56ac8b4e"
  },
  "kernelspec": {
   "display_name": "Python 3.9.6 ('AIML-env')",
   "language": "python",
   "name": "python3"
  },
  "language_info": {
   "codemirror_mode": {
    "name": "ipython",
    "version": 3
   },
   "file_extension": ".py",
   "mimetype": "text/x-python",
   "name": "python",
   "nbconvert_exporter": "python",
   "pygments_lexer": "ipython3",
   "version": "3.9.6"
  }
 },
 "nbformat": 4,
 "nbformat_minor": 1
}
