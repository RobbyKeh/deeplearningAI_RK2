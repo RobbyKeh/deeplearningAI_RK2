{
 "cells": [
  {
   "cell_type": "markdown",
   "metadata": {},
   "source": [
    "<a href=\"https://colab.research.google.com/github/https-deeplearning-ai/tensorflow-1-public/blob/main/C4/W4/ungraded_labs/C4_W4_Lab_2_Sunspots_DNN.ipynb\" target=\"_parent\"><img src=\"https://colab.research.google.com/assets/colab-badge.svg\" alt=\"Open In Colab\"/></a>"
   ]
  },
  {
   "cell_type": "markdown",
   "metadata": {
    "id": "JQsk1BKwZrBh"
   },
   "source": [
    "# Ungraded Lab: Predicting Sunspots with Neural Networks (DNN only)\n",
    "\n",
    "In the remaining labs for this week, you will move away from synthetic time series and start building models for real world data. In particular, you will train on the [Sunspots](https://www.kaggle.com/datasets/robervalt/sunspots) dataset: a monthly record of sunspot numbers from January 1749 to July 2018. You will first build a deep neural network here composed of dense layers. This will act as your baseline so you can compare it to the next lab where you will use a more complex architecture.\n",
    "\n",
    "Let's begin!"
   ]
  },
  {
   "cell_type": "markdown",
   "metadata": {
    "id": "2JHlrB12aeFD"
   },
   "source": [
    "## Imports\n",
    "\n",
    "You will use the same imports as before with the addition of the [csv](https://docs.python.org/3/library/csv.html) module. You will need this to parse the CSV file containing the dataset."
   ]
  },
  {
   "cell_type": "code",
   "execution_count": 1,
   "metadata": {
    "id": "56XEQOGknrAk"
   },
   "outputs": [],
   "source": [
    "import tensorflow as tf\n",
    "import numpy as np\n",
    "import matplotlib.pyplot as plt\n",
    "import csv"
   ]
  },
  {
   "cell_type": "markdown",
   "metadata": {
    "id": "D-mNttnaagBH"
   },
   "source": [
    "## Utilities\n",
    "\n",
    "You will only have the `plot_series()` dataset here because you no longer need the synthetic data generation functions."
   ]
  },
  {
   "cell_type": "code",
   "execution_count": 2,
   "metadata": {
    "id": "sLl52leVp5wU"
   },
   "outputs": [],
   "source": [
    "def plot_series(x, y, format=\"-\", start=0, end=None, \n",
    "                title=None, xlabel=None, ylabel=None, legend=None ):\n",
    "    \"\"\"\n",
    "    Visualizes time series data\n",
    "\n",
    "    Args:\n",
    "      x (array of int) - contains values for the x-axis\n",
    "      y (array of int or tuple of arrays) - contains the values for the y-axis\n",
    "      format (string) - line style when plotting the graph\n",
    "      label (string) - tag for the line\n",
    "      start (int) - first time step to plot\n",
    "      end (int) - last time step to plot\n",
    "      title (string) - title of the plot\n",
    "      xlabel (string) - label for the x-axis\n",
    "      ylabel (string) - label for the y-axis\n",
    "      legend (list of strings) - legend for the plot\n",
    "    \"\"\"\n",
    "\n",
    "    # Setup dimensions of the graph figure\n",
    "    plt.figure(figsize=(10, 6))\n",
    "    \n",
    "    # Check if there are more than two series to plot\n",
    "    if type(y) is tuple:\n",
    "\n",
    "      # Loop over the y elements\n",
    "      for y_curr in y:\n",
    "\n",
    "        # Plot the x and current y values\n",
    "        plt.plot(x[start:end], y_curr[start:end], format)\n",
    "\n",
    "    else:\n",
    "      # Plot the x and y values\n",
    "      plt.plot(x[start:end], y[start:end], format)\n",
    "\n",
    "    # Label the x-axis\n",
    "    plt.xlabel(xlabel)\n",
    "\n",
    "    # Label the y-axis\n",
    "    plt.ylabel(ylabel)\n",
    "\n",
    "    # Set the legend\n",
    "    if legend:\n",
    "      plt.legend(legend)\n",
    "\n",
    "    # Set the title\n",
    "    plt.title(title)\n",
    "\n",
    "    # Overlay a grid on the graph\n",
    "    plt.grid(True)\n",
    "\n",
    "    # Draw the graph on screen\n",
    "    plt.show()"
   ]
  },
  {
   "cell_type": "markdown",
   "metadata": {
    "id": "dFJv45pDauS8"
   },
   "source": [
    "## Download and Preview the Dataset\n",
    "\n",
    "You can now download the dataset and inspect the contents. The link in class is from Laurence's repo but we also hosted it in the link below."
   ]
  },
  {
   "cell_type": "code",
   "execution_count": 3,
   "metadata": {
    "id": "YwI-si5xyUkQ"
   },
   "outputs": [
    {
     "name": "stderr",
     "output_type": "stream",
     "text": [
      "--2022-06-04 22:36:32--  https://storage.googleapis.com/tensorflow-1-public/course4/Sunspots.csv\n",
      "Resolving storage.googleapis.com (storage.googleapis.com)... 2607:f8b0:400f:804::2010, 2607:f8b0:400f:807::2010, 2607:f8b0:400f:802::2010, ...\n",
      "Connecting to storage.googleapis.com (storage.googleapis.com)|2607:f8b0:400f:804::2010|:443... connected.\n",
      "HTTP request sent, awaiting response... 200 OK\n",
      "Length: 70827 (69K) [text/csv]\n",
      "Saving to: 'Sunspots.csv.2'\n",
      "\n",
      "     0K .......... .......... .......... .......... .......... 72% 1.28M 0s\n",
      "    50K .......... .........                                  100% 1.89M=0.05s\n",
      "\n",
      "2022-06-04 22:36:32 (1.41 MB/s) - 'Sunspots.csv.2' saved [70827/70827]\n",
      "\n"
     ]
    }
   ],
   "source": [
    "# Download the dataset\n",
    "!wget https://storage.googleapis.com/tensorflow-1-public/course4/Sunspots.csv"
   ]
  },
  {
   "cell_type": "markdown",
   "metadata": {
    "id": "c0fAiMytrwPJ"
   },
   "source": [
    "Running the cell below, you'll see that there are only three columns in the dataset:\n",
    "1. untitled column containing the month number\n",
    "2. Date which has the format `YYYY-MM-DD`\n",
    "3. Mean Total Sunspot Number"
   ]
  },
  {
   "cell_type": "code",
   "execution_count": 4,
   "metadata": {
    "id": "d5W2auXKrhVh"
   },
   "outputs": [
    {
     "name": "stderr",
     "output_type": "stream",
     "text": [
      "'head' is not recognized as an internal or external command,\n",
      "operable program or batch file.\n"
     ]
    }
   ],
   "source": [
    "# Preview the dataset\n",
    "!head Sunspots.csv"
   ]
  },
  {
   "cell_type": "markdown",
   "metadata": {
    "id": "lbs-Y2SDsVaw"
   },
   "source": [
    "For this lab and the next, you will only need the month number and the mean total sunspot number. You will load those into memory and convert it to arrays that represents a time series."
   ]
  },
  {
   "cell_type": "code",
   "execution_count": 5,
   "metadata": {
    "id": "NcG9r1eClbTh"
   },
   "outputs": [
    {
     "data": {
      "image/png": "[encoded data removed]",
      "text/plain": [
       "<Figure size 720x432 with 1 Axes>"
      ]
     },
     "metadata": {
      "needs_background": "light"
     },
     "output_type": "display_data"
    }
   ],
   "source": [
    "# Initialize lists\n",
    "time_step = []\n",
    "sunspots = []\n",
    "\n",
    "# Open CSV file\n",
    "with open('./Sunspots.csv') as csvfile:\n",
    "  \n",
    "  # Initialize reader\n",
    "  reader = csv.reader(csvfile, delimiter=',')\n",
    "  \n",
    "  # Skip the first line\n",
    "  next(reader)\n",
    "  \n",
    "  # Append row and sunspot number to lists\n",
    "  for row in reader:\n",
    "    time_step.append(int(row[0]))\n",
    "    sunspots.append(float(row[2]))\n",
    "\n",
    "# Convert lists to numpy arrays\n",
    "time = np.array(time_step)\n",
    "series = np.array(sunspots)\n",
    "\n",
    "# Preview the data\n",
    "plot_series(time, series, xlabel='Month', ylabel='Monthly Mean Total Sunspot Number')"
   ]
  },
  {
   "cell_type": "markdown",
   "metadata": {
    "id": "EUQE9RRoazC5"
   },
   "source": [
    "## Split the Dataset\n",
    "\n",
    "Next, you will split the dataset into training and validation sets. There are 3235 points in the dataset and you will use the first 3000 for training."
   ]
  },
  {
   "cell_type": "code",
   "execution_count": 6,
   "metadata": {
    "id": "L92YRw_IpCFG"
   },
   "outputs": [],
   "source": [
    "# Define the split time\n",
    "split_time = 3000\n",
    "\n",
    "# Get the train set \n",
    "time_train = time[:split_time]\n",
    "x_train = series[:split_time]\n",
    "\n",
    "# Get the validation set\n",
    "time_valid = time[split_time:]\n",
    "x_valid = series[split_time:]"
   ]
  },
  {
   "cell_type": "markdown",
   "metadata": {
    "id": "RbuIOrb3a093"
   },
   "source": [
    "## Prepare Features and Labels\n",
    "\n",
    "You can then prepare the dataset windows as before. The window size is set to 30 points (equal to 2.5 years) but feel free to change later on if you want to experiment."
   ]
  },
  {
   "cell_type": "code",
   "execution_count": 7,
   "metadata": {
    "id": "lJwUUZscnG38"
   },
   "outputs": [],
   "source": [
    "def windowed_dataset(series, window_size, batch_size, shuffle_buffer):\n",
    "    \"\"\"Generates dataset windows\n",
    "\n",
    "    Args:\n",
    "      series (array of float) - contains the values of the time series\n",
    "      window_size (int) - the number of time steps to include in the feature\n",
    "      batch_size (int) - the batch size\n",
    "      shuffle_buffer(int) - buffer size to use for the shuffle method\n",
    "\n",
    "    Returns:\n",
    "      dataset (TF Dataset) - TF Dataset containing time windows\n",
    "    \"\"\"\n",
    "  \n",
    "    # Generate a TF Dataset from the series values\n",
    "    dataset = tf.data.Dataset.from_tensor_slices(series)\n",
    "    \n",
    "    # Window the data but only take those with the specified size\n",
    "    dataset = dataset.window(window_size + 1, shift=1, drop_remainder=True)\n",
    "    \n",
    "    # Flatten the windows by putting its elements in a single batch\n",
    "    dataset = dataset.flat_map(lambda window: window.batch(window_size + 1))\n",
    "\n",
    "    # Create tuples with features and labels \n",
    "    dataset = dataset.map(lambda window: (window[:-1], window[-1]))\n",
    "\n",
    "    # Shuffle the windows\n",
    "    dataset = dataset.shuffle(shuffle_buffer)\n",
    "    \n",
    "    # Create batches of windows\n",
    "    dataset = dataset.batch(batch_size).prefetch(1)\n",
    "    \n",
    "    return dataset"
   ]
  },
  {
   "cell_type": "code",
   "execution_count": 8,
   "metadata": {
    "id": "9g5zSxZwZQt_"
   },
   "outputs": [],
   "source": [
    "# Parameters\n",
    "window_size = 30\n",
    "batch_size = 32\n",
    "shuffle_buffer_size = 1000\n",
    "\n",
    "# Generate the dataset windows\n",
    "train_set = windowed_dataset(x_train, window_size, batch_size, shuffle_buffer_size)"
   ]
  },
  {
   "cell_type": "markdown",
   "metadata": {
    "id": "_Lhpi42ta5yP"
   },
   "source": [
    "## Build the Model\n",
    "\n",
    "The model will be 3-layer dense network as shown below."
   ]
  },
  {
   "cell_type": "code",
   "execution_count": 9,
   "metadata": {
    "id": "AclfYY3Mn6Ph"
   },
   "outputs": [
    {
     "name": "stdout",
     "output_type": "stream",
     "text": [
      "Model: \"sequential\"\n",
      "_________________________________________________________________\n",
      " Layer (type)                Output Shape              Param #   \n",
      "=================================================================\n",
      " dense (Dense)               (None, 30)                930       \n",
      "                                                                 \n",
      " dense_1 (Dense)             (None, 10)                310       \n",
      "                                                                 \n",
      " dense_2 (Dense)             (None, 1)                 11        \n",
      "                                                                 \n",
      "=================================================================\n",
      "Total params: 1,251\n",
      "Trainable params: 1,251\n",
      "Non-trainable params: 0\n",
      "_________________________________________________________________\n"
     ]
    }
   ],
   "source": [
    "# Build the model\n",
    "model = tf.keras.models.Sequential([\n",
    "    tf.keras.layers.Dense(30, input_shape=[window_size], activation=\"relu\"), \n",
    "    tf.keras.layers.Dense(10, activation=\"relu\"),\n",
    "    tf.keras.layers.Dense(1)\n",
    "])\n",
    "\n",
    "# Print the model summary\n",
    "model.summary()"
   ]
  },
  {
   "cell_type": "markdown",
   "metadata": {
    "id": "uyT14hQOa97V"
   },
   "source": [
    "## Tune the Learning Rate\n",
    "\n",
    "You can pick a learning rate by running the same learning rate scheduler code from previous labs."
   ]
  },
  {
   "cell_type": "code",
   "execution_count": 10,
   "metadata": {
    "id": "GXiqsZQ1y4nD"
   },
   "outputs": [
    {
     "name": "stdout",
     "output_type": "stream",
     "text": [
      "Epoch 1/100\n",
      "93/93 [==============================] - 1s 11ms/step - loss: 124.0992 - lr: 1.0000e-08\n",
      "Epoch 2/100\n",
      "93/93 [==============================] - 0s 2ms/step - loss: 120.6314 - lr: 1.1220e-08\n",
      "Epoch 3/100\n",
      "93/93 [==============================] - 0s 2ms/step - loss: 116.8088 - lr: 1.2589e-08\n",
      "Epoch 4/100\n",
      "93/93 [==============================] - 0s 2ms/step - loss: 112.6255 - lr: 1.4125e-08\n",
      "Epoch 5/100\n",
      "93/93 [==============================] - 0s 2ms/step - loss: 108.0743 - lr: 1.5849e-08\n",
      "Epoch 6/100\n",
      "93/93 [==============================] - 0s 2ms/step - loss: 103.1223 - lr: 1.7783e-08\n",
      "Epoch 7/100\n",
      "93/93 [==============================] - 0s 2ms/step - loss: 97.7766 - lr: 1.9953e-08\n",
      "Epoch 8/100\n",
      "93/93 [==============================] - 0s 2ms/step - loss: 92.0459 - lr: 2.2387e-08\n",
      "Epoch 9/100\n",
      "93/93 [==============================] - 0s 2ms/step - loss: 85.9768 - lr: 2.5119e-08\n",
      "Epoch 10/100\n",
      "93/93 [==============================] - 0s 2ms/step - loss: 79.6080 - lr: 2.8184e-08\n",
      "Epoch 11/100\n",
      "93/93 [==============================] - 0s 2ms/step - loss: 72.9560 - lr: 3.1623e-08\n",
      "Epoch 12/100\n",
      "93/93 [==============================] - 0s 2ms/step - loss: 66.2039 - lr: 3.5481e-08\n",
      "Epoch 13/100\n",
      "93/93 [==============================] - 0s 2ms/step - loss: 59.5733 - lr: 3.9811e-08\n",
      "Epoch 14/100\n",
      "93/93 [==============================] - 0s 3ms/step - loss: 53.2698 - lr: 4.4668e-08\n",
      "Epoch 15/100\n",
      "93/93 [==============================] - 0s 3ms/step - loss: 47.4214 - lr: 5.0119e-08\n",
      "Epoch 16/100\n",
      "93/93 [==============================] - 0s 2ms/step - loss: 42.3185 - lr: 5.6234e-08\n",
      "Epoch 17/100\n",
      "93/93 [==============================] - 0s 2ms/step - loss: 38.2477 - lr: 6.3096e-08\n",
      "Epoch 18/100\n",
      "93/93 [==============================] - 0s 2ms/step - loss: 35.2136 - lr: 7.0795e-08\n",
      "Epoch 19/100\n",
      "93/93 [==============================] - 0s 2ms/step - loss: 33.0771 - lr: 7.9433e-08\n",
      "Epoch 20/100\n",
      "93/93 [==============================] - 0s 2ms/step - loss: 31.6000 - lr: 8.9125e-08\n",
      "Epoch 21/100\n",
      "93/93 [==============================] - 0s 2ms/step - loss: 30.5277 - lr: 1.0000e-07\n",
      "Epoch 22/100\n",
      "93/93 [==============================] - 0s 2ms/step - loss: 29.6503 - lr: 1.1220e-07\n",
      "Epoch 23/100\n",
      "93/93 [==============================] - 0s 3ms/step - loss: 28.8234 - lr: 1.2589e-07\n",
      "Epoch 24/100\n",
      "93/93 [==============================] - 0s 2ms/step - loss: 28.0032 - lr: 1.4125e-07\n",
      "Epoch 25/100\n",
      "93/93 [==============================] - 0s 3ms/step - loss: 27.2016 - lr: 1.5849e-07\n",
      "Epoch 26/100\n",
      "93/93 [==============================] - 0s 3ms/step - loss: 26.3983 - lr: 1.7783e-07\n",
      "Epoch 27/100\n",
      "93/93 [==============================] - 0s 2ms/step - loss: 25.6073 - lr: 1.9953e-07\n",
      "Epoch 28/100\n",
      "93/93 [==============================] - 0s 2ms/step - loss: 24.8422 - lr: 2.2387e-07\n",
      "Epoch 29/100\n",
      "93/93 [==============================] - 0s 2ms/step - loss: 24.1377 - lr: 2.5119e-07\n",
      "Epoch 30/100\n",
      "93/93 [==============================] - 0s 2ms/step - loss: 23.4980 - lr: 2.8184e-07\n",
      "Epoch 31/100\n",
      "93/93 [==============================] - 0s 2ms/step - loss: 22.9105 - lr: 3.1623e-07\n",
      "Epoch 32/100\n",
      "93/93 [==============================] - 0s 2ms/step - loss: 22.3931 - lr: 3.5481e-07\n",
      "Epoch 33/100\n",
      "93/93 [==============================] - 0s 3ms/step - loss: 21.9699 - lr: 3.9811e-07\n",
      "Epoch 34/100\n",
      "93/93 [==============================] - 0s 3ms/step - loss: 21.6084 - lr: 4.4668e-07\n",
      "Epoch 35/100\n",
      "93/93 [==============================] - 1s 4ms/step - loss: 21.3093 - lr: 5.0119e-07\n",
      "Epoch 36/100\n",
      "93/93 [==============================] - 0s 3ms/step - loss: 21.0830 - lr: 5.6234e-07\n",
      "Epoch 37/100\n",
      "93/93 [==============================] - 0s 3ms/step - loss: 20.8889 - lr: 6.3096e-07\n",
      "Epoch 38/100\n",
      "93/93 [==============================] - 0s 4ms/step - loss: 20.6974 - lr: 7.0795e-07\n",
      "Epoch 39/100\n",
      "93/93 [==============================] - 0s 3ms/step - loss: 20.5617 - lr: 7.9433e-07\n",
      "Epoch 40/100\n",
      "93/93 [==============================] - 0s 3ms/step - loss: 20.4354 - lr: 8.9125e-07\n",
      "Epoch 41/100\n",
      "93/93 [==============================] - 0s 3ms/step - loss: 20.2841 - lr: 1.0000e-06\n",
      "Epoch 42/100\n",
      "93/93 [==============================] - 1s 4ms/step - loss: 20.1501 - lr: 1.1220e-06\n",
      "Epoch 43/100\n",
      "93/93 [==============================] - 0s 4ms/step - loss: 20.0321 - lr: 1.2589e-06\n",
      "Epoch 44/100\n",
      "93/93 [==============================] - 0s 3ms/step - loss: 19.9124 - lr: 1.4125e-06\n",
      "Epoch 45/100\n",
      "93/93 [==============================] - 0s 3ms/step - loss: 19.7777 - lr: 1.5849e-06\n",
      "Epoch 46/100\n",
      "93/93 [==============================] - 0s 3ms/step - loss: 19.6411 - lr: 1.7783e-06\n",
      "Epoch 47/100\n",
      "93/93 [==============================] - 0s 3ms/step - loss: 19.4938 - lr: 1.9953e-06\n",
      "Epoch 48/100\n",
      "93/93 [==============================] - 0s 3ms/step - loss: 19.4245 - lr: 2.2387e-06\n",
      "Epoch 49/100\n",
      "93/93 [==============================] - 0s 3ms/step - loss: 19.2422 - lr: 2.5119e-06\n",
      "Epoch 50/100\n",
      "93/93 [==============================] - 0s 3ms/step - loss: 19.1835 - lr: 2.8184e-06\n",
      "Epoch 51/100\n",
      "93/93 [==============================] - 0s 3ms/step - loss: 19.0377 - lr: 3.1623e-06\n",
      "Epoch 52/100\n",
      "93/93 [==============================] - 0s 3ms/step - loss: 18.8654 - lr: 3.5481e-06\n",
      "Epoch 53/100\n",
      "93/93 [==============================] - 0s 3ms/step - loss: 18.8265 - lr: 3.9811e-06\n",
      "Epoch 54/100\n",
      "93/93 [==============================] - 0s 4ms/step - loss: 18.7257 - lr: 4.4668e-06\n",
      "Epoch 55/100\n",
      "93/93 [==============================] - 0s 3ms/step - loss: 18.6091 - lr: 5.0119e-06\n",
      "Epoch 56/100\n",
      "93/93 [==============================] - 0s 4ms/step - loss: 18.6123 - lr: 5.6234e-06\n",
      "Epoch 57/100\n",
      "93/93 [==============================] - 0s 3ms/step - loss: 18.5956 - lr: 6.3096e-06\n",
      "Epoch 58/100\n",
      "93/93 [==============================] - 0s 3ms/step - loss: 18.4704 - lr: 7.0795e-06\n",
      "Epoch 59/100\n",
      "93/93 [==============================] - 0s 3ms/step - loss: 18.3166 - lr: 7.9433e-06\n",
      "Epoch 60/100\n",
      "93/93 [==============================] - 0s 4ms/step - loss: 18.3770 - lr: 8.9125e-06\n",
      "Epoch 61/100\n",
      "93/93 [==============================] - 0s 4ms/step - loss: 18.0958 - lr: 1.0000e-05\n",
      "Epoch 62/100\n",
      "93/93 [==============================] - 0s 3ms/step - loss: 17.9363 - lr: 1.1220e-05\n",
      "Epoch 63/100\n",
      "93/93 [==============================] - 0s 2ms/step - loss: 18.0573 - lr: 1.2589e-05\n",
      "Epoch 64/100\n",
      "93/93 [==============================] - 0s 3ms/step - loss: 17.8262 - lr: 1.4125e-05\n",
      "Epoch 65/100\n",
      "93/93 [==============================] - 0s 4ms/step - loss: 18.1609 - lr: 1.5849e-05\n",
      "Epoch 66/100\n",
      "93/93 [==============================] - 0s 3ms/step - loss: 18.3072 - lr: 1.7783e-05\n",
      "Epoch 67/100\n",
      "93/93 [==============================] - 0s 3ms/step - loss: 17.8349 - lr: 1.9953e-05\n",
      "Epoch 68/100\n",
      "93/93 [==============================] - 0s 4ms/step - loss: 17.8066 - lr: 2.2387e-05\n",
      "Epoch 69/100\n",
      "93/93 [==============================] - 1s 4ms/step - loss: 17.7842 - lr: 2.5119e-05\n",
      "Epoch 70/100\n",
      "93/93 [==============================] - 0s 3ms/step - loss: 18.2598 - lr: 2.8184e-05\n",
      "Epoch 71/100\n",
      "93/93 [==============================] - 0s 3ms/step - loss: 17.8324 - lr: 3.1623e-05\n",
      "Epoch 72/100\n",
      "93/93 [==============================] - 0s 4ms/step - loss: 17.5346 - lr: 3.5481e-05\n",
      "Epoch 73/100\n",
      "93/93 [==============================] - 0s 4ms/step - loss: 17.8570 - lr: 3.9811e-05\n",
      "Epoch 74/100\n",
      "93/93 [==============================] - 0s 3ms/step - loss: 17.3826 - lr: 4.4668e-05\n",
      "Epoch 75/100\n",
      "93/93 [==============================] - 0s 3ms/step - loss: 17.5671 - lr: 5.0119e-05\n",
      "Epoch 76/100\n",
      "93/93 [==============================] - 0s 3ms/step - loss: 18.6561 - lr: 5.6234e-05\n",
      "Epoch 77/100\n",
      "93/93 [==============================] - 0s 4ms/step - loss: 17.7957 - lr: 6.3096e-05\n",
      "Epoch 78/100\n",
      "93/93 [==============================] - 0s 3ms/step - loss: 18.0269 - lr: 7.0795e-05\n",
      "Epoch 79/100\n",
      "93/93 [==============================] - 0s 3ms/step - loss: 18.6299 - lr: 7.9433e-05\n",
      "Epoch 80/100\n",
      "93/93 [==============================] - 1s 4ms/step - loss: 17.6695 - lr: 8.9125e-05\n",
      "Epoch 81/100\n",
      "93/93 [==============================] - 0s 3ms/step - loss: 17.8738 - lr: 1.0000e-04\n",
      "Epoch 82/100\n",
      "93/93 [==============================] - 0s 3ms/step - loss: 18.3776 - lr: 1.1220e-04\n",
      "Epoch 83/100\n",
      "93/93 [==============================] - 0s 3ms/step - loss: 18.1093 - lr: 1.2589e-04\n",
      "Epoch 84/100\n",
      "93/93 [==============================] - 1s 4ms/step - loss: 17.9227 - lr: 1.4125e-04\n",
      "Epoch 85/100\n",
      "93/93 [==============================] - 0s 3ms/step - loss: 18.1963 - lr: 1.5849e-04\n",
      "Epoch 86/100\n",
      "93/93 [==============================] - 0s 3ms/step - loss: 17.8442 - lr: 1.7783e-04\n",
      "Epoch 87/100\n",
      "93/93 [==============================] - 0s 3ms/step - loss: 17.7332 - lr: 1.9953e-04\n",
      "Epoch 88/100\n",
      "93/93 [==============================] - 0s 4ms/step - loss: 18.3895 - lr: 2.2387e-04\n",
      "Epoch 89/100\n",
      "93/93 [==============================] - 0s 3ms/step - loss: 19.2848 - lr: 2.5119e-04\n",
      "Epoch 90/100\n",
      "93/93 [==============================] - 0s 3ms/step - loss: 19.6156 - lr: 2.8184e-04\n",
      "Epoch 91/100\n",
      "93/93 [==============================] - 0s 3ms/step - loss: 21.5896 - lr: 3.1623e-04\n",
      "Epoch 92/100\n",
      "93/93 [==============================] - 0s 3ms/step - loss: 19.9222 - lr: 3.5481e-04\n",
      "Epoch 93/100\n",
      "93/93 [==============================] - 0s 3ms/step - loss: 21.9865 - lr: 3.9811e-04\n",
      "Epoch 94/100\n",
      "93/93 [==============================] - 0s 3ms/step - loss: 21.7163 - lr: 4.4668e-04\n",
      "Epoch 95/100\n",
      "93/93 [==============================] - 0s 3ms/step - loss: 25.2263 - lr: 5.0119e-04\n",
      "Epoch 96/100\n",
      "93/93 [==============================] - 0s 3ms/step - loss: 22.7171 - lr: 5.6234e-04\n",
      "Epoch 97/100\n",
      "93/93 [==============================] - 0s 3ms/step - loss: 23.6020 - lr: 6.3096e-04\n",
      "Epoch 98/100\n",
      "93/93 [==============================] - 0s 3ms/step - loss: 22.1109 - lr: 7.0795e-04\n",
      "Epoch 99/100\n",
      "93/93 [==============================] - 0s 3ms/step - loss: 26.5133 - lr: 7.9433e-04\n",
      "Epoch 100/100\n",
      "93/93 [==============================] - 0s 3ms/step - loss: 33.6360 - lr: 8.9125e-04\n"
     ]
    }
   ],
   "source": [
    "# Set the learning rate scheduler\n",
    "lr_schedule = tf.keras.callbacks.LearningRateScheduler(\n",
    "    lambda epoch: 1e-8 * 10**(epoch / 20))\n",
    "\n",
    "# Initialize the optimizer\n",
    "optimizer = tf.keras.optimizers.SGD(momentum=0.9)\n",
    "\n",
    "# Set the training parameters\n",
    "model.compile(loss=tf.keras.losses.Huber(), optimizer=optimizer)\n",
    "\n",
    "# Train the model\n",
    "history = model.fit(train_set, epochs=100, callbacks=[lr_schedule])"
   ]
  },
  {
   "cell_type": "code",
   "execution_count": 11,
   "metadata": {
    "id": "xJFAB1NTzGJV"
   },
   "outputs": [
    {
     "data": {
      "text/plain": [
       "(1e-08, 0.001, 0.0, 100.0)"
      ]
     },
     "execution_count": 11,
     "metadata": {},
     "output_type": "execute_result"
    },
    {
     "data": {
      "image/png": "[encoded data removed]",
      "text/plain": [
       "<Figure size 720x432 with 1 Axes>"
      ]
     },
     "metadata": {
      "needs_background": "light"
     },
     "output_type": "display_data"
    }
   ],
   "source": [
    "# Define the learning rate array\n",
    "lrs = 1e-8 * (10 ** (np.arange(100) / 20))\n",
    "\n",
    "# Set the figure size\n",
    "plt.figure(figsize=(10, 6))\n",
    "\n",
    "# Set the grid\n",
    "plt.grid(True)\n",
    "\n",
    "# Plot the loss in log scale\n",
    "plt.semilogx(lrs, history.history[\"loss\"])\n",
    "\n",
    "# Increase the tickmarks size\n",
    "plt.tick_params('both', length=10, width=1, which='both')\n",
    "\n",
    "# Set the plot boundaries\n",
    "plt.axis([1e-8, 1e-3, 0, 100])"
   ]
  },
  {
   "cell_type": "markdown",
   "metadata": {
    "id": "oY4mnUpNbFdc"
   },
   "source": [
    "## Train the Model\n",
    "\n",
    "Once you've picked a learning rate, you can rebuild the model and start training."
   ]
  },
  {
   "cell_type": "code",
   "execution_count": 12,
   "metadata": {
    "id": "Ngna3zR4znJd"
   },
   "outputs": [],
   "source": [
    "# Reset states generated by Keras\n",
    "tf.keras.backend.clear_session()\n",
    "\n",
    "# Build the Model\n",
    "model = tf.keras.models.Sequential([\n",
    "    tf.keras.layers.Dense(30, input_shape=[window_size], activation=\"relu\"), \n",
    "    tf.keras.layers.Dense(10, activation=\"relu\"),\n",
    "    tf.keras.layers.Dense(1)\n",
    "])"
   ]
  },
  {
   "cell_type": "code",
   "execution_count": 13,
   "metadata": {
    "id": "7FKXvEYxzuoc"
   },
   "outputs": [
    {
     "name": "stdout",
     "output_type": "stream",
     "text": [
      "Epoch 1/100\n",
      "93/93 [==============================] - 1s 4ms/step - loss: 44.5225 - mae: 45.0166\n",
      "Epoch 2/100\n",
      "93/93 [==============================] - 0s 3ms/step - loss: 19.9926 - mae: 20.4836\n",
      "Epoch 3/100\n",
      "93/93 [==============================] - 0s 3ms/step - loss: 19.7789 - mae: 20.2714\n",
      "Epoch 4/100\n",
      "93/93 [==============================] - 0s 3ms/step - loss: 19.5465 - mae: 20.0381\n",
      "Epoch 5/100\n",
      "93/93 [==============================] - 0s 3ms/step - loss: 19.1969 - mae: 19.6885\n",
      "Epoch 6/100\n",
      "93/93 [==============================] - 0s 3ms/step - loss: 18.6028 - mae: 19.0954\n",
      "Epoch 7/100\n",
      "93/93 [==============================] - 0s 3ms/step - loss: 18.5185 - mae: 19.0115\n",
      "Epoch 8/100\n",
      "93/93 [==============================] - 0s 3ms/step - loss: 18.2095 - mae: 18.7025\n",
      "Epoch 9/100\n",
      "93/93 [==============================] - 0s 3ms/step - loss: 18.0488 - mae: 18.5414\n",
      "Epoch 10/100\n",
      "93/93 [==============================] - 0s 3ms/step - loss: 18.0411 - mae: 18.5335\n",
      "Epoch 11/100\n",
      "93/93 [==============================] - 0s 3ms/step - loss: 18.0197 - mae: 18.5122\n",
      "Epoch 12/100\n",
      "93/93 [==============================] - 0s 3ms/step - loss: 17.7949 - mae: 18.2877\n",
      "Epoch 13/100\n",
      "93/93 [==============================] - 0s 4ms/step - loss: 17.6998 - mae: 18.1923\n",
      "Epoch 14/100\n",
      "93/93 [==============================] - 0s 3ms/step - loss: 17.8040 - mae: 18.2962\n",
      "Epoch 15/100\n",
      "93/93 [==============================] - 0s 3ms/step - loss: 17.7550 - mae: 18.2472\n",
      "Epoch 16/100\n",
      "93/93 [==============================] - 0s 3ms/step - loss: 17.6179 - mae: 18.1099\n",
      "Epoch 17/100\n",
      "93/93 [==============================] - 0s 3ms/step - loss: 17.5133 - mae: 18.0052\n",
      "Epoch 18/100\n",
      "93/93 [==============================] - 0s 3ms/step - loss: 17.4800 - mae: 17.9721\n",
      "Epoch 19/100\n",
      "93/93 [==============================] - 0s 3ms/step - loss: 17.4217 - mae: 17.9129\n",
      "Epoch 20/100\n",
      "93/93 [==============================] - 0s 3ms/step - loss: 17.4068 - mae: 17.8988\n",
      "Epoch 21/100\n",
      "93/93 [==============================] - 0s 3ms/step - loss: 17.5266 - mae: 18.0197\n",
      "Epoch 22/100\n",
      "93/93 [==============================] - 0s 3ms/step - loss: 17.3699 - mae: 17.8607\n",
      "Epoch 23/100\n",
      "93/93 [==============================] - 0s 3ms/step - loss: 17.2044 - mae: 17.6973\n",
      "Epoch 24/100\n",
      "93/93 [==============================] - 0s 3ms/step - loss: 17.2269 - mae: 17.7197\n",
      "Epoch 25/100\n",
      "93/93 [==============================] - 0s 3ms/step - loss: 17.3050 - mae: 17.7967\n",
      "Epoch 26/100\n",
      "93/93 [==============================] - 0s 4ms/step - loss: 17.2368 - mae: 17.7284\n",
      "Epoch 27/100\n",
      "93/93 [==============================] - 0s 3ms/step - loss: 17.2412 - mae: 17.7338\n",
      "Epoch 28/100\n",
      "93/93 [==============================] - 0s 3ms/step - loss: 17.2864 - mae: 17.7780\n",
      "Epoch 29/100\n",
      "93/93 [==============================] - 0s 2ms/step - loss: 17.0995 - mae: 17.5916\n",
      "Epoch 30/100\n",
      "93/93 [==============================] - 0s 2ms/step - loss: 17.1002 - mae: 17.5921\n",
      "Epoch 31/100\n",
      "93/93 [==============================] - 0s 2ms/step - loss: 17.3565 - mae: 17.8492\n",
      "Epoch 32/100\n",
      "93/93 [==============================] - 0s 3ms/step - loss: 17.2724 - mae: 17.7645\n",
      "Epoch 33/100\n",
      "93/93 [==============================] - 0s 3ms/step - loss: 17.1154 - mae: 17.6074\n",
      "Epoch 34/100\n",
      "93/93 [==============================] - 0s 4ms/step - loss: 17.1086 - mae: 17.5984\n",
      "Epoch 35/100\n",
      "93/93 [==============================] - 0s 3ms/step - loss: 17.0934 - mae: 17.5854\n",
      "Epoch 36/100\n",
      "93/93 [==============================] - 0s 3ms/step - loss: 17.1549 - mae: 17.6443\n",
      "Epoch 37/100\n",
      "93/93 [==============================] - 0s 3ms/step - loss: 16.9952 - mae: 17.4862\n",
      "Epoch 38/100\n",
      "93/93 [==============================] - 0s 3ms/step - loss: 17.2433 - mae: 17.7343\n",
      "Epoch 39/100\n",
      "93/93 [==============================] - 0s 3ms/step - loss: 17.1497 - mae: 17.6416\n",
      "Epoch 40/100\n",
      "93/93 [==============================] - 0s 3ms/step - loss: 17.0722 - mae: 17.5624\n",
      "Epoch 41/100\n",
      "93/93 [==============================] - 0s 4ms/step - loss: 16.9263 - mae: 17.4178\n",
      "Epoch 42/100\n",
      "93/93 [==============================] - 0s 3ms/step - loss: 16.8641 - mae: 17.3545\n",
      "Epoch 43/100\n",
      "93/93 [==============================] - 0s 4ms/step - loss: 17.1534 - mae: 17.6428\n",
      "Epoch 44/100\n",
      "93/93 [==============================] - 0s 3ms/step - loss: 17.0842 - mae: 17.5756\n",
      "Epoch 45/100\n",
      "93/93 [==============================] - 0s 4ms/step - loss: 16.9238 - mae: 17.4143\n",
      "Epoch 46/100\n",
      "93/93 [==============================] - 0s 3ms/step - loss: 16.9661 - mae: 17.4575\n",
      "Epoch 47/100\n",
      "93/93 [==============================] - 0s 3ms/step - loss: 17.0402 - mae: 17.5314\n",
      "Epoch 48/100\n",
      "93/93 [==============================] - 0s 3ms/step - loss: 16.9865 - mae: 17.4785\n",
      "Epoch 49/100\n",
      "93/93 [==============================] - 0s 3ms/step - loss: 16.9595 - mae: 17.4508\n",
      "Epoch 50/100\n",
      "93/93 [==============================] - 0s 3ms/step - loss: 16.9770 - mae: 17.4679\n",
      "Epoch 51/100\n",
      "93/93 [==============================] - 0s 3ms/step - loss: 16.9021 - mae: 17.3922\n",
      "Epoch 52/100\n",
      "93/93 [==============================] - 0s 3ms/step - loss: 16.9148 - mae: 17.4053\n",
      "Epoch 53/100\n",
      "93/93 [==============================] - 0s 3ms/step - loss: 17.0156 - mae: 17.5072\n",
      "Epoch 54/100\n",
      "93/93 [==============================] - 0s 3ms/step - loss: 16.9712 - mae: 17.4624\n",
      "Epoch 55/100\n",
      "93/93 [==============================] - 0s 3ms/step - loss: 16.9336 - mae: 17.4248\n",
      "Epoch 56/100\n",
      "93/93 [==============================] - 0s 3ms/step - loss: 17.0011 - mae: 17.4921\n",
      "Epoch 57/100\n",
      "93/93 [==============================] - 0s 3ms/step - loss: 16.8676 - mae: 17.3583\n",
      "Epoch 58/100\n",
      "93/93 [==============================] - 0s 3ms/step - loss: 16.8548 - mae: 17.3462\n",
      "Epoch 59/100\n",
      "93/93 [==============================] - 0s 3ms/step - loss: 17.0579 - mae: 17.5490\n",
      "Epoch 60/100\n",
      "93/93 [==============================] - 0s 3ms/step - loss: 17.1427 - mae: 17.6335\n",
      "Epoch 61/100\n",
      "93/93 [==============================] - 0s 3ms/step - loss: 17.0314 - mae: 17.5225\n",
      "Epoch 62/100\n",
      "93/93 [==============================] - 0s 3ms/step - loss: 17.0522 - mae: 17.5420\n",
      "Epoch 63/100\n",
      "93/93 [==============================] - 0s 3ms/step - loss: 16.9399 - mae: 17.4307\n",
      "Epoch 64/100\n",
      "93/93 [==============================] - 0s 3ms/step - loss: 16.8945 - mae: 17.3866\n",
      "Epoch 65/100\n",
      "93/93 [==============================] - 0s 3ms/step - loss: 17.1127 - mae: 17.6033\n",
      "Epoch 66/100\n",
      "93/93 [==============================] - 0s 3ms/step - loss: 16.7559 - mae: 17.2468\n",
      "Epoch 67/100\n",
      "93/93 [==============================] - 0s 3ms/step - loss: 16.8718 - mae: 17.3626\n",
      "Epoch 68/100\n",
      "93/93 [==============================] - 0s 3ms/step - loss: 16.8073 - mae: 17.2978\n",
      "Epoch 69/100\n",
      "93/93 [==============================] - 0s 3ms/step - loss: 16.9201 - mae: 17.4121\n",
      "Epoch 70/100\n",
      "93/93 [==============================] - 0s 3ms/step - loss: 16.8249 - mae: 17.3143\n",
      "Epoch 71/100\n",
      "93/93 [==============================] - 0s 3ms/step - loss: 16.8963 - mae: 17.3881\n",
      "Epoch 72/100\n",
      "93/93 [==============================] - 0s 3ms/step - loss: 16.7641 - mae: 17.2554\n",
      "Epoch 73/100\n",
      "93/93 [==============================] - 0s 3ms/step - loss: 16.7920 - mae: 17.2828\n",
      "Epoch 74/100\n",
      "93/93 [==============================] - 0s 3ms/step - loss: 16.8847 - mae: 17.3756\n",
      "Epoch 75/100\n",
      "93/93 [==============================] - 0s 3ms/step - loss: 16.7727 - mae: 17.2637\n",
      "Epoch 76/100\n",
      "93/93 [==============================] - 0s 3ms/step - loss: 17.2034 - mae: 17.6954\n",
      "Epoch 77/100\n",
      "93/93 [==============================] - 0s 3ms/step - loss: 16.8187 - mae: 17.3109\n",
      "Epoch 78/100\n",
      "93/93 [==============================] - 0s 3ms/step - loss: 16.7270 - mae: 17.2175\n",
      "Epoch 79/100\n",
      "93/93 [==============================] - 0s 3ms/step - loss: 17.3521 - mae: 17.8435\n",
      "Epoch 80/100\n",
      "93/93 [==============================] - 0s 2ms/step - loss: 16.6992 - mae: 17.1886\n",
      "Epoch 81/100\n",
      "93/93 [==============================] - 0s 2ms/step - loss: 17.0357 - mae: 17.5249\n",
      "Epoch 82/100\n",
      "93/93 [==============================] - 0s 2ms/step - loss: 16.8177 - mae: 17.3097\n",
      "Epoch 83/100\n",
      "93/93 [==============================] - 0s 2ms/step - loss: 16.7975 - mae: 17.2884\n",
      "Epoch 84/100\n",
      "93/93 [==============================] - 0s 2ms/step - loss: 16.8116 - mae: 17.3018\n",
      "Epoch 85/100\n",
      "93/93 [==============================] - 0s 2ms/step - loss: 16.6552 - mae: 17.1462\n",
      "Epoch 86/100\n",
      "93/93 [==============================] - 0s 2ms/step - loss: 16.7449 - mae: 17.2352\n",
      "Epoch 87/100\n",
      "93/93 [==============================] - 0s 2ms/step - loss: 16.7935 - mae: 17.2854\n",
      "Epoch 88/100\n",
      "93/93 [==============================] - 0s 2ms/step - loss: 16.7547 - mae: 17.2449\n",
      "Epoch 89/100\n",
      "93/93 [==============================] - 0s 2ms/step - loss: 16.7833 - mae: 17.2739\n",
      "Epoch 90/100\n",
      "93/93 [==============================] - 0s 2ms/step - loss: 16.7975 - mae: 17.2872\n",
      "Epoch 91/100\n",
      "93/93 [==============================] - 0s 2ms/step - loss: 16.7827 - mae: 17.2736\n",
      "Epoch 92/100\n",
      "93/93 [==============================] - 0s 2ms/step - loss: 16.7290 - mae: 17.2193\n",
      "Epoch 93/100\n",
      "93/93 [==============================] - 0s 2ms/step - loss: 16.8644 - mae: 17.3545\n",
      "Epoch 94/100\n",
      "93/93 [==============================] - 0s 2ms/step - loss: 16.7526 - mae: 17.2432\n",
      "Epoch 95/100\n",
      "93/93 [==============================] - 0s 2ms/step - loss: 16.7028 - mae: 17.1929\n",
      "Epoch 96/100\n",
      "93/93 [==============================] - 0s 2ms/step - loss: 16.7574 - mae: 17.2484\n",
      "Epoch 97/100\n",
      "93/93 [==============================] - 0s 2ms/step - loss: 16.7239 - mae: 17.2151\n",
      "Epoch 98/100\n",
      "93/93 [==============================] - 0s 2ms/step - loss: 16.7175 - mae: 17.2082\n",
      "Epoch 99/100\n",
      "93/93 [==============================] - 0s 2ms/step - loss: 16.6497 - mae: 17.1391\n",
      "Epoch 100/100\n",
      "93/93 [==============================] - 0s 2ms/step - loss: 16.6640 - mae: 17.1551\n"
     ]
    }
   ],
   "source": [
    "# Set the learning rate\n",
    "learning_rate = 2e-5\n",
    "\n",
    "# Set the optimizer \n",
    "optimizer = tf.keras.optimizers.SGD(learning_rate=learning_rate, momentum=0.9)\n",
    "\n",
    "# Set the training parameters\n",
    "model.compile(loss=tf.keras.losses.Huber(),\n",
    "              optimizer=optimizer,\n",
    "              metrics=[\"mae\"])\n",
    "\n",
    "# Train the model\n",
    "history = model.fit(train_set,epochs=100)"
   ]
  },
  {
   "cell_type": "markdown",
   "metadata": {
    "id": "b1iV2t8ibIka"
   },
   "source": [
    "## Model Prediction\n",
    "\n",
    "Now see if the model generates good results. If you used the default parameters of this notebook, you should see the predictions follow the shape of the ground truth with an MAE of around 15. "
   ]
  },
  {
   "cell_type": "code",
   "execution_count": 14,
   "metadata": {
    "id": "djn06Tri2B6_"
   },
   "outputs": [],
   "source": [
    "def model_forecast(model, series, window_size, batch_size):\n",
    "    \"\"\"Uses an input model to generate predictions on data windows\n",
    "\n",
    "    Args:\n",
    "      model (TF Keras Model) - model that accepts data windows\n",
    "      series (array of float) - contains the values of the time series\n",
    "      window_size (int) - the number of time steps to include in the window\n",
    "      batch_size (int) - the batch size\n",
    "\n",
    "    Returns:\n",
    "      forecast (numpy array) - array containing predictions\n",
    "    \"\"\"\n",
    "\n",
    "    # Generate a TF Dataset from the series values\n",
    "    dataset = tf.data.Dataset.from_tensor_slices(series)\n",
    "\n",
    "    # Window the data but only take those with the specified size\n",
    "    dataset = dataset.window(window_size, shift=1, drop_remainder=True)\n",
    "\n",
    "    # Flatten the windows by putting its elements in a single batch\n",
    "    dataset = dataset.flat_map(lambda w: w.batch(window_size))\n",
    "    \n",
    "    # Create batches of windows\n",
    "    dataset = dataset.batch(batch_size).prefetch(1)\n",
    "    \n",
    "    # Get predictions on the entire dataset\n",
    "    forecast = model.predict(dataset)\n",
    "    \n",
    "    return forecast"
   ]
  },
  {
   "cell_type": "code",
   "execution_count": 15,
   "metadata": {
    "id": "GaC6NNMRp0lb"
   },
   "outputs": [
    {
     "data": {
      "image/png": "[encoded data removed]",
      "text/plain": [
       "<Figure size 720x432 with 1 Axes>"
      ]
     },
     "metadata": {
      "needs_background": "light"
     },
     "output_type": "display_data"
    }
   ],
   "source": [
    "# Reduce the original series\n",
    "forecast_series = series[split_time-window_size:-1]\n",
    "\n",
    "# Use helper function to generate predictions\n",
    "forecast = model_forecast(model, forecast_series, window_size, batch_size)\n",
    "\n",
    "# Drop single dimensional axis\n",
    "results = forecast.squeeze()\n",
    "\n",
    "# Plot the results\n",
    "plot_series(time_valid, (x_valid, results))"
   ]
  },
  {
   "cell_type": "code",
   "execution_count": 16,
   "metadata": {
    "id": "13XrorC5wQoE"
   },
   "outputs": [
    {
     "name": "stdout",
     "output_type": "stream",
     "text": [
      "14.664362\n"
     ]
    }
   ],
   "source": [
    "# Compute the MAE\n",
    "print(tf.keras.metrics.mean_absolute_error(x_valid, results).numpy())"
   ]
  },
  {
   "cell_type": "markdown",
   "metadata": {
    "id": "YqMGN9S5veN2"
   },
   "source": [
    "## Wrap Up\n",
    "\n",
    "In this lab, you built a relatively simple DNN to forecast sunspot numbers for a given month. We encourage you to tweak the parameters or train longer and see the best results you can get. In the next lab, you will build a more complex model and you evaluate if the added complexity translates to better or worse results."
   ]
  }
 ],
 "metadata": {
  "colab": {
   "collapsed_sections": [],
   "name": "C4_W4_Lab_2_Sunspots_DNN.ipynb",
   "private_outputs": true,
   "provenance": [
    {
     "file_id": "https://github.com/https-deeplearning-ai/tensorflow-1-public/blob/adding_C4/C4/W4/ungraded_labs/C4_W4_Lab_3_DNN_only.ipynb",
     "timestamp": 1641292790865
    }
   ]
  },
  "interpreter": {
   "hash": "6144054124f05501854d63cc2c9ec5b317918c2274a32c55faa70c8b56ac8b4e"
  },
  "kernelspec": {
   "display_name": "Python 3.9.6 ('AIML-env')",
   "language": "python",
   "name": "python3"
  },
  "language_info": {
   "codemirror_mode": {
    "name": "ipython",
    "version": 3
   },
   "file_extension": ".py",
   "mimetype": "text/x-python",
   "name": "python",
   "nbconvert_exporter": "python",
   "pygments_lexer": "ipython3",
   "version": "3.9.6"
  }
 },
 "nbformat": 4,
 "nbformat_minor": 1
}
